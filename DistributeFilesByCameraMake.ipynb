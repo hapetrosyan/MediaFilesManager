{
 "nbformat": 4,
 "nbformat_minor": 2,
 "metadata": {
  "language_info": {
   "name": "python",
   "codemirror_mode": {
    "name": "ipython",
    "version": 3
   },
   "version": "3.6.8-final"
  },
  "orig_nbformat": 2,
  "file_extension": ".py",
  "mimetype": "text/x-python",
  "name": "python",
  "npconvert_exporter": "python",
  "pygments_lexer": "ipython3",
  "version": 3,
  "kernelspec": {
   "name": "python36864bitbaseconda2c1b8c9ff6884583b1fba767191aa4e2",
   "display_name": "Python 3.6.8 64-bit ('base': conda)"
  }
 },
 "cells": [
  {
   "cell_type": "code",
   "execution_count": 14,
   "metadata": {},
   "outputs": [],
   "source": [
    "import os\n",
    "from PIL import Image, ExifTags\n",
    "import pandas as pd\n",
    "import shutil"
   ]
  },
  {
   "cell_type": "code",
   "execution_count": 15,
   "metadata": {},
   "outputs": [],
   "source": [
    "main_dir = r'C:\\Users\\011868\\Pictures\\test_dir'"
   ]
  },
  {
   "cell_type": "code",
   "execution_count": 16,
   "metadata": {},
   "outputs": [],
   "source": [
    "df = pd.DataFrame(columns= ['FileFullPath', 'FileFullPathNew', 'NewDirFullPath'])"
   ]
  },
  {
   "cell_type": "code",
   "execution_count": 17,
   "metadata": {},
   "outputs": [],
   "source": [
    "def get_camera_make_model(f_loc):\n",
    "    try:\n",
    "        img = Image.open(f_loc)\n",
    "        exif = { ExifTags.TAGS[k]: v for k, v in img._getexif().items() if k in ExifTags.TAGS }\n",
    "        make_model = exif['Make'] # + ' ' + exif['Model']\n",
    "    except:\n",
    "        make_model = 'NoCamera'\n",
    "    return make_model"
   ]
  },
  {
   "cell_type": "code",
   "execution_count": 18,
   "metadata": {},
   "outputs": [],
   "source": [
    "copy_dir = main_dir + '/DisctibutedByCamera'\n",
    "os.mkdir(copy_dir)"
   ]
  },
  {
   "cell_type": "code",
   "execution_count": 19,
   "metadata": {},
   "outputs": [],
   "source": [
    "i = 0\n",
    "for root, dirs, files in os.walk(main_dir, topdown=False):\n",
    "   for name in files:\n",
    "\n",
    "       cameara_model = get_camera_make_model(os.path.join(root, name))\n",
    "       full_file_path_original = os.path.join(root, name)\n",
    "       full_file_path_new = full_file_path_original.replace(main_dir, main_dir + '\\\\DisctibutedByCamera\\\\' + cameara_model)\n",
    "       full_file_dir_new = root.replace(main_dir, main_dir + '\\\\DisctibutedByCamera\\\\' + cameara_model)\n",
    "\n",
    "      #  print(full_file_path_original, full_file_path_new, full_file_dir_new)\n",
    "\n",
    "       df.loc[i] = full_file_path_original, full_file_path_new, full_file_dir_new\n",
    "\n",
    "    #   print(os.path.join(root, name), get_camera_make_model(os.path.join(root, name)))\n",
    "    #   df.loc[i] = os.path.join(root, name),  root, root.replace(main_dir, main_dir + '\\\\DisctibutedByCamera'),  get_camera_make_model(os.path.join(root, name))\n",
    "       i += 1\n"
   ]
  },
  {
   "cell_type": "code",
   "execution_count": 20,
   "metadata": {},
   "outputs": [],
   "source": [
    "dirs = df['NewDirFullPath'].unique()"
   ]
  },
  {
   "cell_type": "code",
   "execution_count": 21,
   "metadata": {},
   "outputs": [],
   "source": [
    "for d in dirs:\n",
    "    # print(d.replace(main_dir, main_dir + '\\\\DisctibutedByCamera'))\n",
    "    try:\n",
    "        os.makedirs(d)\n",
    "    except:\n",
    "        continue"
   ]
  },
  {
   "cell_type": "code",
   "execution_count": 22,
   "metadata": {},
   "outputs": [],
   "source": [
    "for index, row in df.iterrows():\n",
    "    # print(row['FileFullPath'], row['FileFullPathNew'])\n",
    "    shutil.move(row['FileFullPath'], row['NewDirFullPath'])\n",
    "\n"
   ]
  },
  {
   "cell_type": "code",
   "execution_count": null,
   "metadata": {},
   "outputs": [],
   "source": []
  }
 ]
}