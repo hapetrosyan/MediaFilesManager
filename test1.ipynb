{
 "nbformat": 4,
 "nbformat_minor": 2,
 "metadata": {
  "language_info": {
   "name": "python",
   "codemirror_mode": {
    "name": "ipython",
    "version": 3
   },
   "version": "3.7.5"
  },
  "orig_nbformat": 2,
  "file_extension": ".py",
  "mimetype": "text/x-python",
  "name": "python",
  "npconvert_exporter": "python",
  "pygments_lexer": "ipython3",
  "version": 3
 },
 "cells": [
  {
   "cell_type": "code",
   "execution_count": 1,
   "metadata": {},
   "outputs": [],
   "source": [
    "import file_utils as fu\n",
    "import hash_utils as hu\n",
    "import pandas as pd\n",
    "from datetime import datetime"
   ]
  },
  {
   "cell_type": "code",
   "execution_count": 8,
   "metadata": {},
   "outputs": [],
   "source": [
    "# loc = 'C:\\\\Users\\\\011868\\\\Downloads'\n",
    "# loc = 'C:\\\\Users\\\\011868\\\\Pictures'\n",
    "loc = '/media/hakob/Seagate Expansion Drive'\n",
    "startime = datetime.now()\n",
    "\n",
    "df = hu.get_location_files_hashes_dict(loc, False)\n",
    "endtime = datetime.now()\n",
    "diff = endtime - startime\n",
    "df.to_csv(loc + '/files_hash_db.csv',index=False)\n",
    "df.to_csv('files_hash_db.csv',index=False)\n",
    "print(diff)"
   ]
  },
  {
   "cell_type": "code",
   "execution_count": null,
   "metadata": {},
   "outputs": [],
   "source": []
  },
  {
   "cell_type": "code",
   "execution_count": null,
   "metadata": {},
   "outputs": [],
   "source": []
  },
  {
   "cell_type": "code",
   "execution_count": null,
   "metadata": {},
   "outputs": [],
   "source": []
  },
  {
   "cell_type": "code",
   "execution_count": null,
   "metadata": {},
   "outputs": [],
   "source": []
  }
 ]
}