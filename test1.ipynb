{
 "nbformat": 4,
 "nbformat_minor": 2,
 "metadata": {
  "language_info": {
   "name": "python",
   "codemirror_mode": {
    "name": "ipython",
    "version": 3
   },
   "version": "3.6.8"
  },
  "orig_nbformat": 2,
  "file_extension": ".py",
  "mimetype": "text/x-python",
  "name": "python",
  "npconvert_exporter": "python",
  "pygments_lexer": "ipython3",
  "version": 3
 },
 "cells": [
  {
   "cell_type": "code",
   "execution_count": 15,
   "metadata": {},
   "outputs": [],
   "source": [
    "import file_utils as fu\n",
    "import hash_utils as hu\n",
    "import pandas as pd\n",
    "from datetime import datetime"
   ]
  },
  {
   "cell_type": "code",
   "execution_count": 16,
   "metadata": {},
   "outputs": [],
   "source": []
  },
  {
   "cell_type": "code",
   "execution_count": 23,
   "metadata": {},
   "outputs": [
    {
     "name": "stdout",
     "output_type": "stream",
     "text": "0:27:13.047057\n"
    }
   ],
   "source": [
    "# loc = 'C:\\\\Users\\\\011868\\\\Downloads'\n",
    "# loc = 'C:\\\\Users\\\\011868\\\\Pictures'\n",
    "loc = 'C:\\\\Q_C_Hakob'\n",
    "startime = datetime.now()\n",
    "\n",
    "df = hu.get_location_files_hashes_dict(loc, False)\n",
    "endtime = datetime.now()\n",
    "diff = endtime - startime\n",
    "df.to_csv('files.csv',index=False)\n",
    "print(diff)"
   ]
  },
  {
   "cell_type": "code",
   "execution_count": 25,
   "metadata": {},
   "outputs": [
    {
     "data": {
      "text/html": "<div>\n<style scoped>\n    .dataframe tbody tr th:only-of-type {\n        vertical-align: middle;\n    }\n\n    .dataframe tbody tr th {\n        vertical-align: top;\n    }\n\n    .dataframe thead th {\n        text-align: right;\n    }\n</style>\n<table border=\"1\" class=\"dataframe\">\n  <thead>\n    <tr style=\"text-align: right;\">\n      <th></th>\n      <th>full_file_path</th>\n      <th>file_hash</th>\n      <th>file_extension</th>\n    </tr>\n  </thead>\n  <tbody>\n    <tr>\n      <th>0</th>\n      <td>C:\\Q_C_Hakob\\df_file.csv</td>\n      <td>d6359843304fb5a060a37edec2bc9f1ca5d45e09e45ee9...</td>\n      <td>.csv</td>\n    </tr>\n    <tr>\n      <th>0</th>\n      <td>C:\\Q_C_Hakob\\df_file.json</td>\n      <td>bce78f1d6f9196c8d796765826d8fc4ff24888989f07ad...</td>\n      <td>.json</td>\n    </tr>\n    <tr>\n      <th>0</th>\n      <td>C:\\Q_C_Hakob\\Q_Projects - Shortcut.lnk</td>\n      <td>7536c01ad997f849c7d54fe729d26a0d196e72c19e891a...</td>\n      <td>.lnk</td>\n    </tr>\n    <tr>\n      <th>0</th>\n      <td>C:\\Q_C_Hakob\\SQLQuery1.sql</td>\n      <td>1b118f5a95d84be89cb92867f155a2e25001a52a497f42...</td>\n      <td>.sql</td>\n    </tr>\n    <tr>\n      <th>0</th>\n      <td>C:\\Q_C_Hakob\\SQLQuery3.sql</td>\n      <td>0b430268a3f96229e29cb99fb933f5c74820c8883be32d...</td>\n      <td>.sql</td>\n    </tr>\n  </tbody>\n</table>\n</div>",
      "text/plain": "                           full_file_path  \\\n0                C:\\Q_C_Hakob\\df_file.csv   \n0               C:\\Q_C_Hakob\\df_file.json   \n0  C:\\Q_C_Hakob\\Q_Projects - Shortcut.lnk   \n0              C:\\Q_C_Hakob\\SQLQuery1.sql   \n0              C:\\Q_C_Hakob\\SQLQuery3.sql   \n\n                                           file_hash file_extension  \n0  d6359843304fb5a060a37edec2bc9f1ca5d45e09e45ee9...           .csv  \n0  bce78f1d6f9196c8d796765826d8fc4ff24888989f07ad...          .json  \n0  7536c01ad997f849c7d54fe729d26a0d196e72c19e891a...           .lnk  \n0  1b118f5a95d84be89cb92867f155a2e25001a52a497f42...           .sql  \n0  0b430268a3f96229e29cb99fb933f5c74820c8883be32d...           .sql  "
     },
     "execution_count": 25,
     "metadata": {},
     "output_type": "execute_result"
    }
   ],
   "source": [
    "df.head()"
   ]
  },
  {
   "cell_type": "code",
   "execution_count": 19,
   "metadata": {},
   "outputs": [
    {
     "data": {
      "text/plain": "datetime.timedelta(0, 10, 57392)"
     },
     "execution_count": 19,
     "metadata": {},
     "output_type": "execute_result"
    }
   ],
   "source": [
    "diff"
   ]
  },
  {
   "cell_type": "code",
   "execution_count": 11,
   "metadata": {},
   "outputs": [],
   "source": [
    "df.to_csv('files.csv',index=False)"
   ]
  },
  {
   "cell_type": "code",
   "execution_count": null,
   "metadata": {},
   "outputs": [],
   "source": []
  },
  {
   "cell_type": "code",
   "execution_count": 7,
   "metadata": {},
   "outputs": [],
   "source": [
    "df1 = pd.read_csv('files.csv')"
   ]
  },
  {
   "cell_type": "code",
   "execution_count": null,
   "metadata": {},
   "outputs": [],
   "source": []
  },
  {
   "cell_type": "code",
   "execution_count": null,
   "metadata": {},
   "outputs": [],
   "source": []
  },
  {
   "cell_type": "code",
   "execution_count": null,
   "metadata": {},
   "outputs": [],
   "source": []
  }
 ]
}