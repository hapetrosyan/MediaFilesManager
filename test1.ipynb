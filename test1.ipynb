{
 "nbformat": 4,
 "nbformat_minor": 2,
 "metadata": {
  "language_info": {
   "name": "python",
   "codemirror_mode": {
    "name": "ipython",
    "version": 3
   },
   "version": "3.7.5"
  },
  "orig_nbformat": 2,
  "file_extension": ".py",
  "mimetype": "text/x-python",
  "name": "python",
  "npconvert_exporter": "python",
  "pygments_lexer": "ipython3",
  "version": 3
 },
 "cells": [
  {
   "cell_type": "code",
   "execution_count": 71,
   "metadata": {},
   "outputs": [],
   "source": [
    "import file_utils as fu\n",
    "import hash_utils as hu\n",
    "import pandas as pd\n",
    "from datetime import datetime\n",
    "import os"
   ]
  },
  {
   "cell_type": "code",
   "execution_count": null,
   "metadata": {},
   "outputs": [],
   "source": []
  },
  {
   "cell_type": "code",
   "execution_count": 74,
   "metadata": {},
   "outputs": [
    {
     "name": "stdout",
     "output_type": "stream",
     "text": " /media/hakob/Seagate Expansion Drive/UniqueCopiesFolder/Lilitik_knunq\nprocessing folder /media/hakob/Seagate Expansion Drive/UniqueCopiesFolder/Lilitik_knunq/JPG\nprocessing folder /media/hakob/Seagate Expansion Drive/UniqueCopiesFolder/lumix\nprocessing folder /media/hakob/Seagate Expansion Drive/UniqueCopiesFolder/lumix/JPG\nprocessing folder /media/hakob/Seagate Expansion Drive/UniqueCopiesFolder/lumix/MOV\nprocessing folder /media/hakob/Seagate Expansion Drive/UniqueCopiesFolder/mag\nprocessing folder /media/hakob/Seagate Expansion Drive/UniqueCopiesFolder/mag/JPG\nprocessing folder /media/hakob/Seagate Expansion Drive/UniqueCopiesFolder/mebel\nprocessing folder /media/hakob/Seagate Expansion Drive/UniqueCopiesFolder/mebel/JPG\nprocessing folder /media/hakob/Seagate Expansion Drive/UniqueCopiesFolder/Medical\nprocessing folder /media/hakob/Seagate Expansion Drive/UniqueCopiesFolder/Medical/JPG\nprocessing folder /media/hakob/Seagate Expansion Drive/UniqueCopiesFolder/Mer tan@ , kukik@ der chkar\nprocessing folder /media/hakob/Seagate Expansion Drive/UniqueCopiesFolder/Mer tan@ , kukik@ der chkar/JPG\nprocessing folder /media/hakob/Seagate Expansion Drive/UniqueCopiesFolder/Moscow\nprocessing folder /media/hakob/Seagate Expansion Drive/UniqueCopiesFolder/Moscow/JPG\nprocessing folder /media/hakob/Seagate Expansion Drive/UniqueCopiesFolder/Moscow2\nprocessing folder /media/hakob/Seagate Expansion Drive/UniqueCopiesFolder/Moscow2/JPG\nprocessing folder /media/hakob/Seagate Expansion Drive/UniqueCopiesFolder/Moscow2012\nprocessing folder /media/hakob/Seagate Expansion Drive/UniqueCopiesFolder/Moscow2012/JPG\nprocessing folder /media/hakob/Seagate Expansion Drive/UniqueCopiesFolder/Mughni\nprocessing folder /media/hakob/Seagate Expansion Drive/UniqueCopiesFolder/Mughni/JPG\nprocessing folder /media/hakob/Seagate Expansion Drive/UniqueCopiesFolder/My Documents\nprocessing folder /media/hakob/Seagate Expansion Drive/UniqueCopiesFolder/My Documents/JPG\nprocessing folder /media/hakob/Seagate Expansion Drive/UniqueCopiesFolder/My Pictures\nprocessing folder /media/hakob/Seagate Expansion Drive/UniqueCopiesFolder/My Pictures/JPG\nprocessing folder /media/hakob/Seagate Expansion Drive/UniqueCopiesFolder/Nata\nprocessing folder /media/hakob/Seagate Expansion Drive/UniqueCopiesFolder/Nata/JPG\nprocessing folder /media/hakob/Seagate Expansion Drive/UniqueCopiesFolder/New Folder\nprocessing folder /media/hakob/Seagate Expansion Drive/UniqueCopiesFolder/New Folder/JPG\nprocessing folder /media/hakob/Seagate Expansion Drive/UniqueCopiesFolder/New Folder/MOV\nprocessing folder /media/hakob/Seagate Expansion Drive/UniqueCopiesFolder/New Folder (2)\nprocessing folder /media/hakob/Seagate Expansion Drive/UniqueCopiesFolder/New Folder (2)/JPG\nprocessing folder /media/hakob/Seagate Expansion Drive/UniqueCopiesFolder/New folder (4)\nprocessing folder /media/hakob/Seagate Expansion Drive/UniqueCopiesFolder/New folder (4)/JPG\nprocessing folder /media/hakob/Seagate Expansion Drive/UniqueCopiesFolder/New folder (5)\nprocessing folder /media/hakob/Seagate Expansion Drive/UniqueCopiesFolder/New folder (5)/JPG\nprocessing folder /media/hakob/Seagate Expansion Drive/UniqueCopiesFolder/new_year_2011\nprocessing folder /media/hakob/Seagate Expansion Drive/UniqueCopiesFolder/new_year_2011/JPG\nprocessing folder /media/hakob/Seagate Expansion Drive/UniqueCopiesFolder/new_year_2011/MOV\nprocessing folder /media/hakob/Seagate Expansion Drive/UniqueCopiesFolder/Niagara\nprocessing folder /media/hakob/Seagate Expansion Drive/UniqueCopiesFolder/Niagara/JPG\nprocessing folder /media/hakob/Seagate Expansion Drive/UniqueCopiesFolder/NiagaraWithMom\nprocessing folder /media/hakob/Seagate Expansion Drive/UniqueCopiesFolder/NiagaraWithMom/JPG\nprocessing folder /media/hakob/Seagate Expansion Drive/UniqueCopiesFolder/nkarner\nprocessing folder /media/hakob/Seagate Expansion Drive/UniqueCopiesFolder/nkarner/JPG\nprocessing folder /media/hakob/Seagate Expansion Drive/UniqueCopiesFolder/NotCopiedToHD\nprocessing folder /media/hakob/Seagate Expansion Drive/UniqueCopiesFolder/NotCopiedToHD/JPG\nprocessing folder /media/hakob/Seagate Expansion Drive/UniqueCopiesFolder/Ochen malenkaya Sofya\nprocessing folder /media/hakob/Seagate Expansion Drive/UniqueCopiesFolder/Ochen malenkaya Sofya/MOV\nprocessing folder /media/hakob/Seagate Expansion Drive/UniqueCopiesFolder/Old_pictures\nprocessing folder /media/hakob/Seagate Expansion Drive/UniqueCopiesFolder/Old_pictures/JPG\nprocessing folder /media/hakob/Seagate Expansion Drive/UniqueCopiesFolder/Orange\nprocessing folder /media/hakob/Seagate Expansion Drive/UniqueCopiesFolder/Orange/JPG\nprocessing folder /media/hakob/Seagate Expansion Drive/UniqueCopiesFolder/Orange/WMV\nprocessing folder /media/hakob/Seagate Expansion Drive/UniqueCopiesFolder/orange_pc_pics\nprocessing folder /media/hakob/Seagate Expansion Drive/UniqueCopiesFolder/orange_pc_pics/JPG\nprocessing folder /media/hakob/Seagate Expansion Drive/UniqueCopiesFolder/Other\nprocessing folder /media/hakob/Seagate Expansion Drive/UniqueCopiesFolder/Other/JPG\nprocessing folder /media/hakob/Seagate Expansion Drive/UniqueCopiesFolder/p\nprocessing folder /media/hakob/Seagate Expansion Drive/UniqueCopiesFolder/p/JPG\nprocessing folder /media/hakob/Seagate Expansion Drive/UniqueCopiesFolder/pasp\nprocessing folder /media/hakob/Seagate Expansion Drive/UniqueCopiesFolder/pasp/JPG\nprocessing folder /media/hakob/Seagate Expansion Drive/UniqueCopiesFolder/Passport\nprocessing folder /media/hakob/Seagate Expansion Drive/UniqueCopiesFolder/Passport/JPG\nprocessing folder /media/hakob/Seagate Expansion Drive/UniqueCopiesFolder/PassportsAllPages\nprocessing folder /media/hakob/Seagate Expansion Drive/UniqueCopiesFolder/PassportsAllPages/JPG\nprocessing folder /media/hakob/Seagate Expansion Drive/UniqueCopiesFolder/Pers\nprocessing folder /media/hakob/Seagate Expansion Drive/UniqueCopiesFolder/Pers/JPG\nprocessing folder /media/hakob/Seagate Expansion Drive/UniqueCopiesFolder/phone\nprocessing folder /media/hakob/Seagate Expansion Drive/UniqueCopiesFolder/phone/JPG\nprocessing folder /media/hakob/Seagate Expansion Drive/UniqueCopiesFolder/Phone 2014-08-03\nprocessing folder /media/hakob/Seagate Expansion Drive/UniqueCopiesFolder/Phone 2014-08-03/JPEG\nprocessing folder /media/hakob/Seagate Expansion Drive/UniqueCopiesFolder/Phone 2014-08-03/JPG\nprocessing folder /media/hakob/Seagate Expansion Drive/UniqueCopiesFolder/Phone 2014-08-03/MP4\nprocessing folder /media/hakob/Seagate Expansion Drive/UniqueCopiesFolder/phone 2508\nprocessing folder /media/hakob/Seagate Expansion Drive/UniqueCopiesFolder/phone 2508/JPG\nprocessing folder /media/hakob/Seagate Expansion Drive/UniqueCopiesFolder/phone20100507\nprocessing folder /media/hakob/Seagate Expansion Drive/UniqueCopiesFolder/phone20100507/JPG\nprocessing folder /media/hakob/Seagate Expansion Drive/UniqueCopiesFolder/Phone_20141121\nprocessing folder /media/hakob/Seagate Expansion Drive/UniqueCopiesFolder/Phone_20141121/JPG\nprocessing folder /media/hakob/Seagate Expansion Drive/UniqueCopiesFolder/Phone_20141121/MP4\nprocessing folder /media/hakob/Seagate Expansion Drive/UniqueCopiesFolder/pics\nprocessing folder /media/hakob/Seagate Expansion Drive/UniqueCopiesFolder/pics/JPG\nprocessing folder /media/hakob/Seagate Expansion Drive/UniqueCopiesFolder/Picture\nprocessing folder /media/hakob/Seagate Expansion Drive/UniqueCopiesFolder/Picture/JPG\nprocessing folder /media/hakob/Seagate Expansion Drive/UniqueCopiesFolder/Picture/MOV\nprocessing folder /media/hakob/Seagate Expansion Drive/UniqueCopiesFolder/Pictures\nprocessing folder /media/hakob/Seagate Expansion Drive/UniqueCopiesFolder/Pictures/JPG\nprocessing folder /media/hakob/Seagate Expansion Drive/UniqueCopiesFolder/Pictures1\nprocessing folder /media/hakob/Seagate Expansion Drive/UniqueCopiesFolder/Pictures1/JPG\nprocessing folder /media/hakob/Seagate Expansion Drive/UniqueCopiesFolder/Pictures1/MOV\nprocessing folder /media/hakob/Seagate Expansion Drive/UniqueCopiesFolder/Pictures_Israel\nprocessing folder /media/hakob/Seagate Expansion Drive/UniqueCopiesFolder/Pictures_Israel/JPG\nprocessing folder /media/hakob/Seagate Expansion Drive/UniqueCopiesFolder/Picure\nprocessing folder /media/hakob/Seagate Expansion Drive/UniqueCopiesFolder/Picure/JPG\nprocessing folder /media/hakob/Seagate Expansion Drive/UniqueCopiesFolder/plagiat\nprocessing folder /media/hakob/Seagate Expansion Drive/UniqueCopiesFolder/plagiat/JPG\nprocessing folder /media/hakob/Seagate Expansion Drive/UniqueCopiesFolder/print\nprocessing folder /media/hakob/Seagate Expansion Drive/UniqueCopiesFolder/print/JPG\nprocessing folder /media/hakob/Seagate Expansion Drive/UniqueCopiesFolder/Procredit\nprocessing folder /media/hakob/Seagate Expansion Drive/UniqueCopiesFolder/Procredit/JPG\nprocessing folder /media/hakob/Seagate Expansion Drive/UniqueCopiesFolder/Qarasunqi or@\nprocessing folder /media/hakob/Seagate Expansion Drive/UniqueCopiesFolder/Qarasunqi or@/JPG\nprocessing folder /media/hakob/Seagate Expansion Drive/UniqueCopiesFolder/RecommendLetters\nprocessing folder /media/hakob/Seagate Expansion Drive/UniqueCopiesFolder/RecommendLetters/JPG\nprocessing folder /media/hakob/Seagate Expansion Drive/UniqueCopiesFolder/Ripley's Aquarium\nprocessing folder /media/hakob/Seagate Expansion Drive/UniqueCopiesFolder/Ripley's Aquarium/JPG\nprocessing folder /media/hakob/Seagate Expansion Drive/UniqueCopiesFolder/S720170920\nprocessing folder /media/hakob/Seagate Expansion Drive/UniqueCopiesFolder/S720170920/JPG\nprocessing folder /media/hakob/Seagate Expansion Drive/UniqueCopiesFolder/S720170920/MP4\nprocessing folder /media/hakob/Seagate Expansion Drive/UniqueCopiesFolder/sadik\nprocessing folder /media/hakob/Seagate Expansion Drive/UniqueCopiesFolder/sadik/JPG\nprocessing folder /media/hakob/Seagate Expansion Drive/UniqueCopiesFolder/sadik/MOV\nprocessing folder /media/hakob/Seagate Expansion Drive/UniqueCopiesFolder/Saghmosavank 04.08.07\nprocessing folder /media/hakob/Seagate Expansion Drive/UniqueCopiesFolder/Saghmosavank 04.08.07/JPG\nprocessing folder /media/hakob/Seagate Expansion Drive/UniqueCopiesFolder/samsung_20130412\nprocessing folder /media/hakob/Seagate Expansion Drive/UniqueCopiesFolder/samsung_20130412/JPG\nprocessing folder /media/hakob/Seagate Expansion Drive/UniqueCopiesFolder/Scans\nprocessing folder /media/hakob/Seagate Expansion Drive/UniqueCopiesFolder/Scans/JPG\nprocessing folder /media/hakob/Seagate Expansion Drive/UniqueCopiesFolder/SecSchool\nprocessing folder /media/hakob/Seagate Expansion Drive/UniqueCopiesFolder/SecSchool/JPG\nprocessing folder /media/hakob/Seagate Expansion Drive/UniqueCopiesFolder/SMSC\nprocessing folder /media/hakob/Seagate Expansion Drive/UniqueCopiesFolder/SMSC/JPG\nprocessing folder /media/hakob/Seagate Expansion Drive/UniqueCopiesFolder/SMSC_4.5.200\nprocessing folder /media/hakob/Seagate Expansion Drive/UniqueCopiesFolder/SMSC_4.5.200/JPG\nprocessing folder /media/hakob/Seagate Expansion Drive/UniqueCopiesFolder/Sof\nprocessing folder /media/hakob/Seagate Expansion Drive/UniqueCopiesFolder/Sof/JPG\nprocessing folder /media/hakob/Seagate Expansion Drive/UniqueCopiesFolder/Sofa-den rogdenija 16.01.2010\nprocessing folder /media/hakob/Seagate Expansion Drive/UniqueCopiesFolder/Sofa-den rogdenija 16.01.2010/JPG\nprocessing folder /media/hakob/Seagate Expansion Drive/UniqueCopiesFolder/Sofa-den rogdenija 16.01.2010/MOV\nprocessing folder /media/hakob/Seagate Expansion Drive/UniqueCopiesFolder/Sofia\nprocessing folder /media/hakob/Seagate Expansion Drive/UniqueCopiesFolder/Sofia/JPG\nprocessing folder /media/hakob/Seagate Expansion Drive/UniqueCopiesFolder/Sofochkai video 3,5-4,5 amis\nprocessing folder /media/hakob/Seagate Expansion Drive/UniqueCopiesFolder/Sofochkai video 3,5-4,5 amis/MOV\nprocessing folder /media/hakob/Seagate Expansion Drive/UniqueCopiesFolder/Sofya\nprocessing folder /media/hakob/Seagate Expansion Drive/UniqueCopiesFolder/Sofya/JPG\nprocessing folder /media/hakob/Seagate Expansion Drive/UniqueCopiesFolder/Sofya/MOV\nprocessing folder /media/hakob/Seagate Expansion Drive/UniqueCopiesFolder/Sofya 2\nprocessing folder /media/hakob/Seagate Expansion Drive/UniqueCopiesFolder/Sofya 2/JPG\nprocessing folder /media/hakob/Seagate Expansion Drive/UniqueCopiesFolder/Sofya 3\nprocessing folder /media/hakob/Seagate Expansion Drive/UniqueCopiesFolder/Sofya 3/JPG\nprocessing folder /media/hakob/Seagate Expansion Drive/UniqueCopiesFolder/Sofya fevral 2010\nprocessing folder /media/hakob/Seagate Expansion Drive/UniqueCopiesFolder/Sofya fevral 2010/MOV\nprocessing folder /media/hakob/Seagate Expansion Drive/UniqueCopiesFolder/Sofya vid\nprocessing folder /media/hakob/Seagate Expansion Drive/UniqueCopiesFolder/Sofya vid/MOV\nprocessing folder /media/hakob/Seagate Expansion Drive/UniqueCopiesFolder/Sofya vidiki\nprocessing folder /media/hakob/Seagate Expansion Drive/UniqueCopiesFolder/Sofya vidiki/MOV\nprocessing folder /media/hakob/Seagate Expansion Drive/UniqueCopiesFolder/Sofya vidiki 03-04.2010\nprocessing folder /media/hakob/Seagate Expansion Drive/UniqueCopiesFolder/Sofya vidiki 03-04.2010/MOV\nprocessing folder /media/hakob/Seagate Expansion Drive/UniqueCopiesFolder/Sofya xadunok 333\nprocessing folder /media/hakob/Seagate Expansion Drive/UniqueCopiesFolder/Sofya xadunok 333/JPG\nprocessing folder /media/hakob/Seagate Expansion Drive/UniqueCopiesFolder/Sony Ericsson Live With Walkman\nprocessing folder /media/hakob/Seagate Expansion Drive/UniqueCopiesFolder/Sony Ericsson Live With Walkman/MP4\nprocessing folder /media/hakob/Seagate Expansion Drive/UniqueCopiesFolder/Stepanavan\nprocessing folder /media/hakob/Seagate Expansion Drive/UniqueCopiesFolder/Stepanavan/JPG\nprocessing folder /media/hakob/Seagate Expansion Drive/UniqueCopiesFolder/Stepanavan/MOV\nprocessing folder /media/hakob/Seagate Expansion Drive/UniqueCopiesFolder/Stepanavan 2014\nprocessing folder /media/hakob/Seagate Expansion Drive/UniqueCopiesFolder/Stepanavan 2014/JPG\nprocessing folder /media/hakob/Seagate Expansion Drive/UniqueCopiesFolder/Sur_masiv\nprocessing folder /media/hakob/Seagate Expansion Drive/UniqueCopiesFolder/Sur_masiv/JPG\nprocessing folder /media/hakob/Seagate Expansion Drive/UniqueCopiesFolder/svoi\nprocessing folder /media/hakob/Seagate Expansion Drive/UniqueCopiesFolder/svoi/JPG\nprocessing folder /media/hakob/Seagate Expansion Drive/UniqueCopiesFolder/Ticket\nprocessing folder /media/hakob/Seagate Expansion Drive/UniqueCopiesFolder/Ticket/JPG\nprocessing folder /media/hakob/Seagate Expansion Drive/UniqueCopiesFolder/Trudovoy\nprocessing folder /media/hakob/Seagate Expansion Drive/UniqueCopiesFolder/Trudovoy/JPG\nprocessing folder /media/hakob/Seagate Expansion Drive/UniqueCopiesFolder/u nas\nprocessing folder /media/hakob/Seagate Expansion Drive/UniqueCopiesFolder/u nas/JPG\nprocessing folder /media/hakob/Seagate Expansion Drive/UniqueCopiesFolder/uncopied\nprocessing folder /media/hakob/Seagate Expansion Drive/UniqueCopiesFolder/uncopied/JPG\nprocessing folder /media/hakob/Seagate Expansion Drive/UniqueCopiesFolder/uo\nprocessing folder /media/hakob/Seagate Expansion Drive/UniqueCopiesFolder/uo/JPG\nprocessing folder /media/hakob/Seagate Expansion Drive/UniqueCopiesFolder/up\nprocessing folder /media/hakob/Seagate Expansion Drive/UniqueCopiesFolder/up/JPG\nprocessing folder /media/hakob/Seagate Expansion Drive/UniqueCopiesFolder/Vardenis 10.08.2017\nprocessing folder /media/hakob/Seagate Expansion Drive/UniqueCopiesFolder/Vardenis 10.08.2017/JPG\nprocessing folder /media/hakob/Seagate Expansion Drive/UniqueCopiesFolder/Vayq\nprocessing folder /media/hakob/Seagate Expansion Drive/UniqueCopiesFolder/Vayq/JPG\nprocessing folder /media/hakob/Seagate Expansion Drive/UniqueCopiesFolder/VERG-HAK HARSANIQ\nprocessing folder /media/hakob/Seagate Expansion Drive/UniqueCopiesFolder/VERG-HAK HARSANIQ/JPG\nprocessing folder /media/hakob/Seagate Expansion Drive/UniqueCopiesFolder/vERGINE\nprocessing folder /media/hakob/Seagate Expansion Drive/UniqueCopiesFolder/vERGINE/JPG\nprocessing folder /media/hakob/Seagate Expansion Drive/UniqueCopiesFolder/VergineAlcatelCamera\nprocessing folder /media/hakob/Seagate Expansion Drive/UniqueCopiesFolder/VergineAlcatelCamera/JPG\nprocessing folder /media/hakob/Seagate Expansion Drive/UniqueCopiesFolder/VergineAlcatelCamera/MP4\nprocessing folder /media/hakob/Seagate Expansion Drive/UniqueCopiesFolder/Verginen kapuyt shorov\nprocessing folder /media/hakob/Seagate Expansion Drive/UniqueCopiesFolder/Verginen kapuyt shorov/JPG\nprocessing folder /media/hakob/Seagate Expansion Drive/UniqueCopiesFolder/vid\nprocessing folder /media/hakob/Seagate Expansion Drive/UniqueCopiesFolder/vid/MOV\nprocessing folder /media/hakob/Seagate Expansion Drive/UniqueCopiesFolder/Video (Chonsik)\nprocessing folder /media/hakob/Seagate Expansion Drive/UniqueCopiesFolder/Video (Chonsik)/MOV\nprocessing folder /media/hakob/Seagate Expansion Drive/UniqueCopiesFolder/videos\nprocessing folder /media/hakob/Seagate Expansion Drive/UniqueCopiesFolder/videos/MOV\nprocessing folder /media/hakob/Seagate Expansion Drive/UniqueCopiesFolder/videos/MP4\nprocessing folder /media/hakob/Seagate Expansion Drive/UniqueCopiesFolder/videos Sofya\nprocessing folder /media/hakob/Seagate Expansion Drive/UniqueCopiesFolder/videos Sofya/MOV\nprocessing folder /media/hakob/Seagate Expansion Drive/UniqueCopiesFolder/VIDEO_TS\nprocessing folder /media/hakob/Seagate Expansion Drive/UniqueCopiesFolder/VIDEO_TS/VOB\nprocessing folder /media/hakob/Seagate Expansion Drive/UniqueCopiesFolder/Vig Cnund\nprocessing folder /media/hakob/Seagate Expansion Drive/UniqueCopiesFolder/Vig Cnund/JPG\nprocessing folder /media/hakob/Seagate Expansion Drive/UniqueCopiesFolder/VigBD\nprocessing folder /media/hakob/Seagate Expansion Drive/UniqueCopiesFolder/VigBD/JPG\nprocessing folder /media/hakob/Seagate Expansion Drive/UniqueCopiesFolder/vig_nokia\nprocessing folder /media/hakob/Seagate Expansion Drive/UniqueCopiesFolder/vig_nokia/JPG\nprocessing folder /media/hakob/Seagate Expansion Drive/UniqueCopiesFolder/visa\nprocessing folder /media/hakob/Seagate Expansion Drive/UniqueCopiesFolder/visa/JPG\nprocessing folder /media/hakob/Seagate Expansion Drive/UniqueCopiesFolder/Visa Expert docs\nprocessing folder /media/hakob/Seagate Expansion Drive/UniqueCopiesFolder/Visa Expert docs/JPG\nprocessing folder /media/hakob/Seagate Expansion Drive/UniqueCopiesFolder/Woodbine1\nprocessing folder /media/hakob/Seagate Expansion Drive/UniqueCopiesFolder/Woodbine1/JPG\nprocessing folder /media/hakob/Seagate Expansion Drive/UniqueCopiesFolder/Xar@\nprocessing folder /media/hakob/Seagate Expansion Drive/UniqueCopiesFolder/Xar@/JPG\nprocessing folder /media/hakob/Seagate Expansion Drive/UniqueCopiesFolder/Xary\nprocessing folder /media/hakob/Seagate Expansion Drive/UniqueCopiesFolder/Xary/JPG\nprocessing folder /media/hakob/Seagate Expansion Drive/UniqueCopiesFolder/Xary/MP4\nprocessing folder /media/hakob/Seagate Expansion Drive/UniqueCopiesFolder/Zags\nprocessing folder /media/hakob/Seagate Expansion Drive/UniqueCopiesFolder/Zags/JPG\nprocessing folder /media/hakob/Seagate Expansion Drive/UniqueCopiesFolder/Zarka\nprocessing folder /media/hakob/Seagate Expansion Drive/UniqueCopiesFolder/Zarka/JPG\nprocessing folder /media/hakob/Seagate Expansion Drive/UniqueCopiesFolder/Zav_BD\nprocessing folder /media/hakob/Seagate Expansion Drive/UniqueCopiesFolder/Zav_BD/JPG\nprocessing folder /media/hakob/Seagate Expansion Drive/UniqueCopiesFolder/Zav_BD/MOV\nprocessing folder /media/hakob/Seagate Expansion Drive/UniqueCopiesFolder/Zav_cnund\nprocessing folder /media/hakob/Seagate Expansion Drive/UniqueCopiesFolder/Zav_cnund/JPG\nprocessing folder /media/hakob/Seagate Expansion Drive/UniqueCopiesFolder/Zav_cnund/MOV\nprocessing folder /media/hakob/Seagate Expansion Drive/UniqueCopiesFolder/Zhanna\nprocessing folder /media/hakob/Seagate Expansion Drive/UniqueCopiesFolder/Zhanna/JPG\nprocessing folder /media/hakob/Seagate Expansion Drive/UniqueCopiesFolder/ZoowithMom\nprocessing folder /media/hakob/Seagate Expansion Drive/UniqueCopiesFolder/ZoowithMom/JPG\n1:08:37.287166\n"
    }
   ],
   "source": [
    "loc = '/media/hakob/Seagate Expansion Drive'\n",
    "os.remove('my_csv.csv')\n",
    "startime = datetime.now()\n",
    "\n",
    "for dirpath, dirnames, filenames in os.walk(loc):\n",
    "    # print(dirpath)\n",
    "    df = pd.DataFrame()\n",
    "    for filename in filenames:\n",
    "        # print(filename)\n",
    "        full_file_path = os.path.join(dirpath, filename)\n",
    "        df = df.append ( [[full_file_path, os.path.splitext(filename)[-1].lower(), hu.get_file_hash(full_file_path)]] )\n",
    "    df.to_csv('my_csv.csv', mode='a', header=False, index=False)\n",
    "    print(f'processing folder {dirpath}')\n",
    "\n",
    "endtime = datetime.now()\n",
    "diff = endtime - startime\n",
    "print(diff)\n",
    "\n",
    "df = pd.read_csv('my_csv.csv', names=['full_file_path', 'file_extension', 'file_hash'])"
   ]
  },
  {
   "cell_type": "code",
   "execution_count": null,
   "metadata": {},
   "outputs": [],
   "source": []
  },
  {
   "cell_type": "code",
   "execution_count": 80,
   "metadata": {},
   "outputs": [],
   "source": [
    "df = pd.read_csv('my_csv.csv')\n",
    "df.columns=['full_file_path', 'file_extension', 'file_hash']"
   ]
  },
  {
   "cell_type": "code",
   "execution_count": 81,
   "metadata": {},
   "outputs": [
    {
     "data": {
      "text/html": "<div>\n<style scoped>\n    .dataframe tbody tr th:only-of-type {\n        vertical-align: middle;\n    }\n\n    .dataframe tbody tr th {\n        vertical-align: top;\n    }\n\n    .dataframe thead th {\n        text-align: right;\n    }\n</style>\n<table border=\"1\" class=\"dataframe\">\n  <thead>\n    <tr style=\"text-align: right;\">\n      <th></th>\n      <th>full_file_path</th>\n      <th>file_extension</th>\n      <th>file_hash</th>\n    </tr>\n  </thead>\n  <tbody>\n    <tr>\n      <th>0</th>\n      <td>/media/hakob/Seagate Expansion Drive/.Trash-10...</td>\n      <td>.db</td>\n      <td>cda6909c09beb78bd53ddb10a49bc389ff604ea0d78499...</td>\n    </tr>\n    <tr>\n      <th>1</th>\n      <td>/media/hakob/Seagate Expansion Drive/.Trash-10...</td>\n      <td>.db</td>\n      <td>0c785cfdba6c342e0ba80d6c31d91f9a5ced760cec4f6b...</td>\n    </tr>\n    <tr>\n      <th>2</th>\n      <td>/media/hakob/Seagate Expansion Drive/.Trash-10...</td>\n      <td>.db</td>\n      <td>62356101e8153910ec3ebdbf3af0a9a26194b31e963a72...</td>\n    </tr>\n    <tr>\n      <th>3</th>\n      <td>/media/hakob/Seagate Expansion Drive/.Trash-10...</td>\n      <td>.db</td>\n      <td>c3cb966871076d5eb2dd1cf44495382b8246cb39e73203...</td>\n    </tr>\n    <tr>\n      <th>4</th>\n      <td>/media/hakob/Seagate Expansion Drive/.Trash-10...</td>\n      <td>.db</td>\n      <td>7b52f5726248deade16e0087186b34859d88e846ff96af...</td>\n    </tr>\n  </tbody>\n</table>\n</div>",
      "text/plain": "                                      full_file_path file_extension  \\\n0  /media/hakob/Seagate Expansion Drive/.Trash-10...            .db   \n1  /media/hakob/Seagate Expansion Drive/.Trash-10...            .db   \n2  /media/hakob/Seagate Expansion Drive/.Trash-10...            .db   \n3  /media/hakob/Seagate Expansion Drive/.Trash-10...            .db   \n4  /media/hakob/Seagate Expansion Drive/.Trash-10...            .db   \n\n                                           file_hash  \n0  cda6909c09beb78bd53ddb10a49bc389ff604ea0d78499...  \n1  0c785cfdba6c342e0ba80d6c31d91f9a5ced760cec4f6b...  \n2  62356101e8153910ec3ebdbf3af0a9a26194b31e963a72...  \n3  c3cb966871076d5eb2dd1cf44495382b8246cb39e73203...  \n4  7b52f5726248deade16e0087186b34859d88e846ff96af...  "
     },
     "execution_count": 81,
     "metadata": {},
     "output_type": "execute_result"
    }
   ],
   "source": [
    "df.head()"
   ]
  },
  {
   "cell_type": "code",
   "execution_count": null,
   "metadata": {},
   "outputs": [],
   "source": []
  },
  {
   "cell_type": "code",
   "execution_count": null,
   "metadata": {},
   "outputs": [],
   "source": []
  },
  {
   "cell_type": "code",
   "execution_count": null,
   "metadata": {},
   "outputs": [],
   "source": []
  },
  {
   "cell_type": "code",
   "execution_count": null,
   "metadata": {},
   "outputs": [],
   "source": []
  },
  {
   "cell_type": "code",
   "execution_count": null,
   "metadata": {},
   "outputs": [],
   "source": []
  },
  {
   "cell_type": "code",
   "execution_count": null,
   "metadata": {},
   "outputs": [],
   "source": []
  },
  {
   "cell_type": "code",
   "execution_count": null,
   "metadata": {},
   "outputs": [],
   "source": []
  },
  {
   "cell_type": "code",
   "execution_count": null,
   "metadata": {},
   "outputs": [],
   "source": []
  },
  {
   "cell_type": "code",
   "execution_count": 48,
   "metadata": {},
   "outputs": [
    {
     "ename": "MemoryError",
     "evalue": "",
     "output_type": "error",
     "traceback": [
      "\u001b[0;31m---------------------------------------------------------------------------\u001b[0m",
      "\u001b[0;31mMemoryError\u001b[0m                               Traceback (most recent call last)",
      "\u001b[0;32m<ipython-input-48-6b822e32b0c3>\u001b[0m in \u001b[0;36m<module>\u001b[0;34m\u001b[0m\n\u001b[1;32m      4\u001b[0m \u001b[0mstartime\u001b[0m \u001b[0;34m=\u001b[0m \u001b[0mdatetime\u001b[0m\u001b[0;34m.\u001b[0m\u001b[0mnow\u001b[0m\u001b[0;34m(\u001b[0m\u001b[0;34m)\u001b[0m\u001b[0;34m\u001b[0m\u001b[0;34m\u001b[0m\u001b[0m\n\u001b[1;32m      5\u001b[0m \u001b[0;34m\u001b[0m\u001b[0m\n\u001b[0;32m----> 6\u001b[0;31m \u001b[0mdf\u001b[0m \u001b[0;34m=\u001b[0m \u001b[0mhu\u001b[0m\u001b[0;34m.\u001b[0m\u001b[0mget_location_files_hashes_dict\u001b[0m\u001b[0;34m(\u001b[0m\u001b[0mloc\u001b[0m\u001b[0;34m,\u001b[0m \u001b[0;32mFalse\u001b[0m\u001b[0;34m)\u001b[0m\u001b[0;34m\u001b[0m\u001b[0;34m\u001b[0m\u001b[0m\n\u001b[0m\u001b[1;32m      7\u001b[0m \u001b[0mendtime\u001b[0m \u001b[0;34m=\u001b[0m \u001b[0mdatetime\u001b[0m\u001b[0;34m.\u001b[0m\u001b[0mnow\u001b[0m\u001b[0;34m(\u001b[0m\u001b[0;34m)\u001b[0m\u001b[0;34m\u001b[0m\u001b[0;34m\u001b[0m\u001b[0m\n\u001b[1;32m      8\u001b[0m \u001b[0mdiff\u001b[0m \u001b[0;34m=\u001b[0m \u001b[0mendtime\u001b[0m \u001b[0;34m-\u001b[0m \u001b[0mstartime\u001b[0m\u001b[0;34m\u001b[0m\u001b[0;34m\u001b[0m\u001b[0m\n",
      "\u001b[0;32m~/github/MediaFilesManager/hash_utils.py\u001b[0m in \u001b[0;36mget_location_files_hashes_dict\u001b[0;34m(location, set_index)\u001b[0m\n\u001b[1;32m     27\u001b[0m             \u001b[0;32mfor\u001b[0m \u001b[0mfilename\u001b[0m \u001b[0;32min\u001b[0m \u001b[0mfilenames\u001b[0m\u001b[0;34m:\u001b[0m\u001b[0;34m\u001b[0m\u001b[0;34m\u001b[0m\u001b[0m\n\u001b[1;32m     28\u001b[0m                 \u001b[0mfull_file_path\u001b[0m \u001b[0;34m=\u001b[0m \u001b[0mos\u001b[0m\u001b[0;34m.\u001b[0m\u001b[0mpath\u001b[0m\u001b[0;34m.\u001b[0m\u001b[0mjoin\u001b[0m\u001b[0;34m(\u001b[0m\u001b[0mdirpath\u001b[0m\u001b[0;34m,\u001b[0m \u001b[0mfilename\u001b[0m\u001b[0;34m)\u001b[0m\u001b[0;34m\u001b[0m\u001b[0;34m\u001b[0m\u001b[0m\n\u001b[0;32m---> 29\u001b[0;31m                 \u001b[0mdf\u001b[0m \u001b[0;34m=\u001b[0m \u001b[0mdf\u001b[0m\u001b[0;34m.\u001b[0m\u001b[0mappend\u001b[0m \u001b[0;34m(\u001b[0m \u001b[0;34m[\u001b[0m\u001b[0;34m[\u001b[0m\u001b[0mfull_file_path\u001b[0m\u001b[0;34m,\u001b[0m \u001b[0mget_file_hash\u001b[0m\u001b[0;34m(\u001b[0m\u001b[0mfull_file_path\u001b[0m\u001b[0;34m)\u001b[0m\u001b[0;34m,\u001b[0m \u001b[0mos\u001b[0m\u001b[0;34m.\u001b[0m\u001b[0mpath\u001b[0m\u001b[0;34m.\u001b[0m\u001b[0msplitext\u001b[0m\u001b[0;34m(\u001b[0m\u001b[0mfilename\u001b[0m\u001b[0;34m)\u001b[0m\u001b[0;34m[\u001b[0m\u001b[0;34m-\u001b[0m\u001b[0;36m1\u001b[0m\u001b[0;34m]\u001b[0m\u001b[0;34m.\u001b[0m\u001b[0mlower\u001b[0m\u001b[0;34m(\u001b[0m\u001b[0;34m)\u001b[0m\u001b[0;34m]\u001b[0m\u001b[0;34m]\u001b[0m \u001b[0;34m)\u001b[0m\u001b[0;34m\u001b[0m\u001b[0;34m\u001b[0m\u001b[0m\n\u001b[0m\u001b[1;32m     30\u001b[0m         \u001b[0mdf\u001b[0m\u001b[0;34m.\u001b[0m\u001b[0mcolumns\u001b[0m\u001b[0;34m=\u001b[0m\u001b[0;34m[\u001b[0m\u001b[0;34m'full_file_path'\u001b[0m\u001b[0;34m,\u001b[0m \u001b[0;34m'file_hash'\u001b[0m\u001b[0;34m,\u001b[0m \u001b[0;34m'file_extension'\u001b[0m\u001b[0;34m]\u001b[0m\u001b[0;34m\u001b[0m\u001b[0;34m\u001b[0m\u001b[0m\n\u001b[1;32m     31\u001b[0m \u001b[0;34m\u001b[0m\u001b[0m\n",
      "\u001b[0;32m~/github/MediaFilesManager/hash_utils.py\u001b[0m in \u001b[0;36mget_file_hash\u001b[0;34m(filename)\u001b[0m\n\u001b[1;32m     10\u001b[0m \u001b[0;32mdef\u001b[0m \u001b[0mget_file_hash\u001b[0m\u001b[0;34m(\u001b[0m\u001b[0mfilename\u001b[0m\u001b[0;34m)\u001b[0m\u001b[0;34m:\u001b[0m\u001b[0;34m\u001b[0m\u001b[0;34m\u001b[0m\u001b[0m\n\u001b[1;32m     11\u001b[0m     \u001b[0;32mwith\u001b[0m \u001b[0mopen\u001b[0m\u001b[0;34m(\u001b[0m\u001b[0mfilename\u001b[0m\u001b[0;34m,\u001b[0m \u001b[0;34m\"rb\"\u001b[0m\u001b[0;34m)\u001b[0m \u001b[0;32mas\u001b[0m \u001b[0mf\u001b[0m\u001b[0;34m:\u001b[0m\u001b[0;34m\u001b[0m\u001b[0;34m\u001b[0m\u001b[0m\n\u001b[0;32m---> 12\u001b[0;31m         \u001b[0mbytes\u001b[0m \u001b[0;34m=\u001b[0m \u001b[0mf\u001b[0m\u001b[0;34m.\u001b[0m\u001b[0mread\u001b[0m\u001b[0;34m(\u001b[0m\u001b[0;34m)\u001b[0m  \u001b[0;31m# read entire file as bytes\u001b[0m\u001b[0;34m\u001b[0m\u001b[0;34m\u001b[0m\u001b[0m\n\u001b[0m\u001b[1;32m     13\u001b[0m         \u001b[0mreadable_hash\u001b[0m \u001b[0;34m=\u001b[0m \u001b[0mhashlib\u001b[0m\u001b[0;34m.\u001b[0m\u001b[0msha256\u001b[0m\u001b[0;34m(\u001b[0m\u001b[0mbytes\u001b[0m\u001b[0;34m)\u001b[0m\u001b[0;34m.\u001b[0m\u001b[0mhexdigest\u001b[0m\u001b[0;34m(\u001b[0m\u001b[0;34m)\u001b[0m\u001b[0;34m\u001b[0m\u001b[0;34m\u001b[0m\u001b[0m\n\u001b[1;32m     14\u001b[0m         \u001b[0;32mreturn\u001b[0m \u001b[0;34m(\u001b[0m\u001b[0mreadable_hash\u001b[0m\u001b[0;34m)\u001b[0m\u001b[0;34m\u001b[0m\u001b[0;34m\u001b[0m\u001b[0m\n",
      "\u001b[0;31mMemoryError\u001b[0m: "
     ]
    }
   ],
   "source": [
    "# loc = 'C:\\\\Users\\\\011868\\\\Downloads'\n",
    "# loc = 'C:\\\\Users\\\\011868\\\\Pictures'\n",
    "loc = '/media/hakob/Seagate Expansion Drive'\n",
    "startime = datetime.now()\n",
    "\n",
    "df = hu.get_location_files_hashes_dict(loc, False)\n",
    "endtime = datetime.now()\n",
    "diff = endtime - startime\n",
    "df.to_csv(loc + '/files_hash_db.csv',index=False)\n",
    "df.to_csv('files_hash_db.csv',index=False)\n",
    "print(diff)"
   ]
  },
  {
   "cell_type": "code",
   "execution_count": 49,
   "metadata": {},
   "outputs": [
    {
     "ename": "NameError",
     "evalue": "name 'df' is not defined",
     "output_type": "error",
     "traceback": [
      "\u001b[0;31m---------------------------------------------------------------------------\u001b[0m",
      "\u001b[0;31mNameError\u001b[0m                                 Traceback (most recent call last)",
      "\u001b[0;32m<ipython-input-49-00cf07b74dcd>\u001b[0m in \u001b[0;36m<module>\u001b[0;34m\u001b[0m\n\u001b[0;32m----> 1\u001b[0;31m \u001b[0mdf\u001b[0m\u001b[0;34m\u001b[0m\u001b[0;34m\u001b[0m\u001b[0m\n\u001b[0m",
      "\u001b[0;31mNameError\u001b[0m: name 'df' is not defined"
     ]
    }
   ],
   "source": [
    "df"
   ]
  },
  {
   "cell_type": "code",
   "execution_count": 37,
   "metadata": {},
   "outputs": [],
   "source": [
    "loc = '/media/hakob/Seagate Expansion Drive'"
   ]
  },
  {
   "cell_type": "code",
   "execution_count": null,
   "metadata": {},
   "outputs": [],
   "source": []
  },
  {
   "cell_type": "code",
   "execution_count": 70,
   "metadata": {},
   "outputs": [
    {
     "name": "stdout",
     "output_type": "stream",
     "text": "0:02:11.647486\n"
    }
   ],
   "source": [
    "startime = datetime.now()\n",
    "df = pd.DataFrame()\n",
    "for dirpath, dirnames, filenames in os.walk(loc):\n",
    "    for filename in filenames:\n",
    "        full_file_path = os.path.join(dirpath, filename)\n",
    "        df = df.append ( [[full_file_path, os.path.splitext(filename)[-1].lower(), hu.get_file_hash(full_file_path)]] )\n",
    "df.columns=['full_file_path', 'file_extension', 'file_hash']\n",
    "df.to_csv('files_hash_db.csv',index=False)\n",
    "endtime = datetime.now()\n",
    "diff = endtime - startime\n",
    "print(diff)"
   ]
  },
  {
   "cell_type": "code",
   "execution_count": null,
   "metadata": {},
   "outputs": [],
   "source": []
  },
  {
   "cell_type": "code",
   "execution_count": null,
   "metadata": {},
   "outputs": [],
   "source": []
  },
  {
   "cell_type": "code",
   "execution_count": 59,
   "metadata": {},
   "outputs": [],
   "source": []
  },
  {
   "cell_type": "code",
   "execution_count": 66,
   "metadata": {},
   "outputs": [
    {
     "name": "stdout",
     "output_type": "stream",
     "text": "folder /media/hakob/Seagate Expansion Drive/Not Copied to HD copied\nfolder /media/hakob/Seagate Expansion Drive/Not Copied to HD/Kleinburg copied\nfolder /media/hakob/Seagate Expansion Drive/Not Copied to HD/S7_20180518 copied\nfolder /media/hakob/Seagate Expansion Drive/Not Copied to HD/S7_20180518/Camera copied\nfolder /media/hakob/Seagate Expansion Drive/Not Copied to HD/Tadevos copied\n"
    }
   ],
   "source": []
  },
  {
   "cell_type": "code",
   "execution_count": 55,
   "metadata": {},
   "outputs": [
    {
     "data": {
      "text/html": "<div>\n<style scoped>\n    .dataframe tbody tr th:only-of-type {\n        vertical-align: middle;\n    }\n\n    .dataframe tbody tr th {\n        vertical-align: top;\n    }\n\n    .dataframe thead th {\n        text-align: right;\n    }\n</style>\n<table border=\"1\" class=\"dataframe\">\n  <thead>\n    <tr style=\"text-align: right;\">\n      <th></th>\n      <th>0</th>\n      <th>1</th>\n    </tr>\n  </thead>\n  <tbody>\n    <tr>\n      <th>0</th>\n      <td>/media/hakob/Seagate Expansion Drive/Kleinburg...</td>\n      <td>.jpg</td>\n    </tr>\n    <tr>\n      <th>0</th>\n      <td>/media/hakob/Seagate Expansion Drive/Kleinburg...</td>\n      <td>.jpg</td>\n    </tr>\n    <tr>\n      <th>0</th>\n      <td>/media/hakob/Seagate Expansion Drive/Kleinburg...</td>\n      <td>.jpg</td>\n    </tr>\n    <tr>\n      <th>0</th>\n      <td>/media/hakob/Seagate Expansion Drive/Kleinburg...</td>\n      <td>.jpg</td>\n    </tr>\n  </tbody>\n</table>\n</div>",
      "text/plain": "                                                   0     1\n0  /media/hakob/Seagate Expansion Drive/Kleinburg...  .jpg\n0  /media/hakob/Seagate Expansion Drive/Kleinburg...  .jpg\n0  /media/hakob/Seagate Expansion Drive/Kleinburg...  .jpg\n0  /media/hakob/Seagate Expansion Drive/Kleinburg...  .jpg"
     },
     "execution_count": 55,
     "metadata": {},
     "output_type": "execute_result"
    }
   ],
   "source": [
    "df"
   ]
  },
  {
   "cell_type": "code",
   "execution_count": null,
   "metadata": {},
   "outputs": [],
   "source": []
  }
 ]
}