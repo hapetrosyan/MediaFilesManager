{
 "nbformat": 4,
 "nbformat_minor": 2,
 "metadata": {
  "language_info": {
   "name": "python",
   "codemirror_mode": {
    "name": "ipython",
    "version": 3
   },
   "version": "3.6.8"
  },
  "orig_nbformat": 2,
  "file_extension": ".py",
  "mimetype": "text/x-python",
  "name": "python",
  "npconvert_exporter": "python",
  "pygments_lexer": "ipython3",
  "version": 3
 },
 "cells": [
  {
   "cell_type": "code",
   "execution_count": 2,
   "metadata": {},
   "outputs": [],
   "source": [
    "import pandas as pd"
   ]
  },
  {
   "cell_type": "code",
   "execution_count": null,
   "metadata": {},
   "outputs": [],
   "source": []
  },
  {
   "cell_type": "code",
   "execution_count": 25,
   "metadata": {},
   "outputs": [],
   "source": [
    "df = pd.read_csv('my_csv.csv', names=['full_file_path', 'file_extension', 'file_hash'])"
   ]
  },
  {
   "cell_type": "code",
   "execution_count": 26,
   "metadata": {},
   "outputs": [],
   "source": [
    "a = df.iloc[10000]['full_file_path']"
   ]
  },
  {
   "cell_type": "code",
   "execution_count": 27,
   "metadata": {},
   "outputs": [
    {
     "data": {
      "text/plain": "'SegateOriginalFiles/HDD 2/Hakob/SOFYA/Pictures/caxkadzor_2011/P1110519.JPG'"
     },
     "execution_count": 27,
     "metadata": {},
     "output_type": "execute_result"
    }
   ],
   "source": [
    "a.replace('/media/hakob/Seagate Expansion Drive/', '')"
   ]
  },
  {
   "cell_type": "code",
   "execution_count": 28,
   "metadata": {},
   "outputs": [],
   "source": [
    "df['full_file_path'] = df['full_file_path'].apply(lambda x: x.replace('/media/hakob/Seagate Expansion Drive/', ''))"
   ]
  },
  {
   "cell_type": "code",
   "execution_count": 31,
   "metadata": {},
   "outputs": [],
   "source": [
    "df = df.sort_values('full_file_path', ascending = False)"
   ]
  },
  {
   "cell_type": "code",
   "execution_count": 32,
   "metadata": {},
   "outputs": [
    {
     "data": {
      "text/html": "<div>\n<style scoped>\n    .dataframe tbody tr th:only-of-type {\n        vertical-align: middle;\n    }\n\n    .dataframe tbody tr th {\n        vertical-align: top;\n    }\n\n    .dataframe thead th {\n        text-align: right;\n    }\n</style>\n<table border=\"1\" class=\"dataframe\">\n  <thead>\n    <tr style=\"text-align: right;\">\n      <th></th>\n      <th>full_file_path</th>\n      <th>file_extension</th>\n      <th>file_hash</th>\n    </tr>\n  </thead>\n  <tbody>\n    <tr>\n      <th>49758</th>\n      <td>UniqueCopiesFolder/visa/JPG/visa_JPG_883KB_Arc...</td>\n      <td>.jpg</td>\n      <td>258f1984d1000d9dc065c211768cced7dd2bfbc1d4bd83...</td>\n    </tr>\n    <tr>\n      <th>49757</th>\n      <td>UniqueCopiesFolder/visa/JPG/visa_JPG_1955KB_Ar...</td>\n      <td>.jpg</td>\n      <td>87eea45a65ceb45ce85818280d0518ae927f3ac3f2a992...</td>\n    </tr>\n    <tr>\n      <th>49756</th>\n      <td>UniqueCopiesFolder/vig_nokia/JPG/vig_nokia_jpg...</td>\n      <td>.jpg</td>\n      <td>f81cb5f6ed2b2d865a5888d972a707da95846dc5f5f306...</td>\n    </tr>\n    <tr>\n      <th>49755</th>\n      <td>UniqueCopiesFolder/vig_nokia/JPG/vig_nokia_jpg...</td>\n      <td>.jpg</td>\n      <td>8cb96771bd49b83bcf952181f1c299bcf7c951ecab2114...</td>\n    </tr>\n    <tr>\n      <th>49754</th>\n      <td>UniqueCopiesFolder/vig_nokia/JPG/vig_nokia_jpg...</td>\n      <td>.jpg</td>\n      <td>e604789a5e7ba14f98755f904e2ccc756381b2de7e7818...</td>\n    </tr>\n    <tr>\n      <th>49753</th>\n      <td>UniqueCopiesFolder/vig_nokia/JPG/vig_nokia_jpg...</td>\n      <td>.jpg</td>\n      <td>ae5bb555609ae9de4c19e64259dc2520cf70d5623bd6e7...</td>\n    </tr>\n    <tr>\n      <th>49752</th>\n      <td>UniqueCopiesFolder/vig_nokia/JPG/vig_nokia_jpg...</td>\n      <td>.jpg</td>\n      <td>abfaff66869453b6b53b55cec3f80c0ac408cb95796ac6...</td>\n    </tr>\n    <tr>\n      <th>49751</th>\n      <td>UniqueCopiesFolder/vig_nokia/JPG/vig_nokia_jpg...</td>\n      <td>.jpg</td>\n      <td>721cdabb6950b6b1c5346ffaac7dfb960b837016d5c876...</td>\n    </tr>\n    <tr>\n      <th>49750</th>\n      <td>UniqueCopiesFolder/vig_nokia/JPG/vig_nokia_jpg...</td>\n      <td>.jpg</td>\n      <td>1632647a0e023314f6e6d68d8cec325ca3347f1076ac7c...</td>\n    </tr>\n    <tr>\n      <th>49749</th>\n      <td>UniqueCopiesFolder/vig_nokia/JPG/vig_nokia_jpg...</td>\n      <td>.jpg</td>\n      <td>cb30b8c4a8476896cf2b600ab5bcf5f76e0e3d702cda92...</td>\n    </tr>\n    <tr>\n      <th>49748</th>\n      <td>UniqueCopiesFolder/vig_nokia/JPG/vig_nokia_jpg...</td>\n      <td>.jpg</td>\n      <td>53dccd64bf39f1f324fef67f53111156b252be72de1ab0...</td>\n    </tr>\n    <tr>\n      <th>49747</th>\n      <td>UniqueCopiesFolder/vig_nokia/JPG/vig_nokia_jpg...</td>\n      <td>.jpg</td>\n      <td>6b5d35ffa350e366718bb047ae14b2c4635cefd5f12986...</td>\n    </tr>\n    <tr>\n      <th>49746</th>\n      <td>UniqueCopiesFolder/vig_nokia/JPG/vig_nokia_jpg...</td>\n      <td>.jpg</td>\n      <td>2e552d7449c4e801b79f7f41812d6f97121b2224291f05...</td>\n    </tr>\n    <tr>\n      <th>49733</th>\n      <td>UniqueCopiesFolder/vig_nokia/JPG/vig_nokia_jpg...</td>\n      <td>.jpg</td>\n      <td>467b590e4a5d2a44f12890c2a569a3f9118266b7701ab3...</td>\n    </tr>\n    <tr>\n      <th>49745</th>\n      <td>UniqueCopiesFolder/vig_nokia/JPG/vig_nokia_jpg...</td>\n      <td>.jpg</td>\n      <td>ff7efd2acdec6f78c0a7bd361a2a57d30f5f0365df0a2e...</td>\n    </tr>\n    <tr>\n      <th>49744</th>\n      <td>UniqueCopiesFolder/vig_nokia/JPG/vig_nokia_jpg...</td>\n      <td>.jpg</td>\n      <td>c72a2a22aafcc7a4e2640f31894919a359d78de1bf94f4...</td>\n    </tr>\n    <tr>\n      <th>49743</th>\n      <td>UniqueCopiesFolder/vig_nokia/JPG/vig_nokia_jpg...</td>\n      <td>.jpg</td>\n      <td>60ffd59f943b272342758e301dfd42bc911cf2e968066a...</td>\n    </tr>\n    <tr>\n      <th>49742</th>\n      <td>UniqueCopiesFolder/vig_nokia/JPG/vig_nokia_jpg...</td>\n      <td>.jpg</td>\n      <td>5bb0cd200ecf28d2eaa048bbcc9a7c6b1e76d5d867f914...</td>\n    </tr>\n    <tr>\n      <th>49741</th>\n      <td>UniqueCopiesFolder/vig_nokia/JPG/vig_nokia_jpg...</td>\n      <td>.jpg</td>\n      <td>dd34eba34289e0b7e4ade79c0a061c09db4e1ee26b0e74...</td>\n    </tr>\n    <tr>\n      <th>49740</th>\n      <td>UniqueCopiesFolder/vig_nokia/JPG/vig_nokia_jpg...</td>\n      <td>.jpg</td>\n      <td>86616cfb02b993ab1dd8d3d1917af32bcf8d732381c8fd...</td>\n    </tr>\n    <tr>\n      <th>49739</th>\n      <td>UniqueCopiesFolder/vig_nokia/JPG/vig_nokia_jpg...</td>\n      <td>.jpg</td>\n      <td>123227788238484cc6a7c3f24a9b70239a6bf961a79dd5...</td>\n    </tr>\n    <tr>\n      <th>49738</th>\n      <td>UniqueCopiesFolder/vig_nokia/JPG/vig_nokia_jpg...</td>\n      <td>.jpg</td>\n      <td>ad3d1ca77f896ff86e3d308960617d44ac93996d6d0418...</td>\n    </tr>\n    <tr>\n      <th>49737</th>\n      <td>UniqueCopiesFolder/vig_nokia/JPG/vig_nokia_jpg...</td>\n      <td>.jpg</td>\n      <td>a8f691c96c587730768aeceb6ff7ee2be53382d5e3a500...</td>\n    </tr>\n    <tr>\n      <th>49736</th>\n      <td>UniqueCopiesFolder/vig_nokia/JPG/vig_nokia_jpg...</td>\n      <td>.jpg</td>\n      <td>fe180dc50ac2d2426f85d99e3cbc3dc9eba87edce817f9...</td>\n    </tr>\n    <tr>\n      <th>49735</th>\n      <td>UniqueCopiesFolder/vig_nokia/JPG/vig_nokia_jpg...</td>\n      <td>.jpg</td>\n      <td>9eec43dfa7304b0ff484eef329b51e9782f17c24241c61...</td>\n    </tr>\n    <tr>\n      <th>49734</th>\n      <td>UniqueCopiesFolder/vig_nokia/JPG/vig_nokia_jpg...</td>\n      <td>.jpg</td>\n      <td>fc390a130afc0631aeab0214abdb21cad58e29cc4bd115...</td>\n    </tr>\n    <tr>\n      <th>49732</th>\n      <td>UniqueCopiesFolder/vig_nokia/JPG/vig_nokia_jpg...</td>\n      <td>.jpg</td>\n      <td>942ab54e6cae67901ecacf020abe3bde446fa122128bec...</td>\n    </tr>\n    <tr>\n      <th>49728</th>\n      <td>UniqueCopiesFolder/vig_nokia/JPG/vig_nokia_jpg...</td>\n      <td>.jpg</td>\n      <td>6e1caab2977d85985e6d64b0e98f3c2061b51eb5a31b7c...</td>\n    </tr>\n    <tr>\n      <th>49727</th>\n      <td>UniqueCopiesFolder/vig_nokia/JPG/vig_nokia_jpg...</td>\n      <td>.jpg</td>\n      <td>717027981ca4dfca2237b9ecceef8b4722614a3b2fefc9...</td>\n    </tr>\n    <tr>\n      <th>49726</th>\n      <td>UniqueCopiesFolder/vig_nokia/JPG/vig_nokia_jpg...</td>\n      <td>.jpg</td>\n      <td>dc1f1f0237c98c92adfd8af784ce33313c707aa5b08f05...</td>\n    </tr>\n    <tr>\n      <th>...</th>\n      <td>...</td>\n      <td>...</td>\n      <td>...</td>\n    </tr>\n    <tr>\n      <th>115</th>\n      <td>.Trash-1000/files/Thumbs.117.db</td>\n      <td>.db</td>\n      <td>c9c9365b0f99e6b1039dcbe3a8480721a983e93aa203e9...</td>\n    </tr>\n    <tr>\n      <th>114</th>\n      <td>.Trash-1000/files/Thumbs.116.db</td>\n      <td>.db</td>\n      <td>5ad8ccbb3479d972379a4441b4391e05445a976af9c62b...</td>\n    </tr>\n    <tr>\n      <th>113</th>\n      <td>.Trash-1000/files/Thumbs.115.db</td>\n      <td>.db</td>\n      <td>600ec698e08596c2c4671a5eb9294cc771d4d62843f689...</td>\n    </tr>\n    <tr>\n      <th>112</th>\n      <td>.Trash-1000/files/Thumbs.114.db</td>\n      <td>.db</td>\n      <td>02eab1ad7a0b74f985dd650dc25c09d3fe4e835fb4b835...</td>\n    </tr>\n    <tr>\n      <th>72</th>\n      <td>.Trash-1000/files/Thumbs.113.db</td>\n      <td>.db</td>\n      <td>675733038173f939b17ed970f26325ceab8665e3cad951...</td>\n    </tr>\n    <tr>\n      <th>17</th>\n      <td>.Trash-1000/files/Thumbs.112.db</td>\n      <td>.db</td>\n      <td>bc8a075c40da425c5a5a0b92418faa4c2a1571bb0cf574...</td>\n    </tr>\n    <tr>\n      <th>16</th>\n      <td>.Trash-1000/files/Thumbs.111.db</td>\n      <td>.db</td>\n      <td>94498986970dc40a02af23bdc5928e4b67721bf8e94045...</td>\n    </tr>\n    <tr>\n      <th>15</th>\n      <td>.Trash-1000/files/Thumbs.110.db</td>\n      <td>.db</td>\n      <td>27cccafdbe8d4421d9e3bdd828120ed16ceb820b263324...</td>\n    </tr>\n    <tr>\n      <th>14</th>\n      <td>.Trash-1000/files/Thumbs.11.db</td>\n      <td>.db</td>\n      <td>f0c5ca6191bdd7a5d0d29c4f2edf0f642eb01203cdd3ad...</td>\n    </tr>\n    <tr>\n      <th>13</th>\n      <td>.Trash-1000/files/Thumbs.109.db</td>\n      <td>.db</td>\n      <td>cd0216ba424fdd928ac762ebdf7174d91c64507bdfde6d...</td>\n    </tr>\n    <tr>\n      <th>12</th>\n      <td>.Trash-1000/files/Thumbs.108.db</td>\n      <td>.db</td>\n      <td>ca6f31ed0989e34d544338e3f876ccb385b4dfc31957c7...</td>\n    </tr>\n    <tr>\n      <th>11</th>\n      <td>.Trash-1000/files/Thumbs.107.db</td>\n      <td>.db</td>\n      <td>0853064f873359ec2c1bf5e5c9aa1f4292fc1a03782dde...</td>\n    </tr>\n    <tr>\n      <th>10</th>\n      <td>.Trash-1000/files/Thumbs.106.db</td>\n      <td>.db</td>\n      <td>469c930862b771b406b382caf48f437c2f8a4c69fb49ca...</td>\n    </tr>\n    <tr>\n      <th>9</th>\n      <td>.Trash-1000/files/Thumbs.105.db</td>\n      <td>.db</td>\n      <td>78559b2974c79e12cdc6093b229f299734cf749e5d91a7...</td>\n    </tr>\n    <tr>\n      <th>8</th>\n      <td>.Trash-1000/files/Thumbs.104.db</td>\n      <td>.db</td>\n      <td>7852497f5481c855d75b61fde898344ef9156292fe4b5c...</td>\n    </tr>\n    <tr>\n      <th>7</th>\n      <td>.Trash-1000/files/Thumbs.103.db</td>\n      <td>.db</td>\n      <td>0eccfe6308147fb8c119821c5ac82880d9be597670a789...</td>\n    </tr>\n    <tr>\n      <th>6</th>\n      <td>.Trash-1000/files/Thumbs.102.db</td>\n      <td>.db</td>\n      <td>f8b03239ecfb096ea2c20907ef61e7b93f6e9a54787000...</td>\n    </tr>\n    <tr>\n      <th>5</th>\n      <td>.Trash-1000/files/Thumbs.101.db</td>\n      <td>.db</td>\n      <td>7b52f5726248deade16e0087186b34859d88e846ff96af...</td>\n    </tr>\n    <tr>\n      <th>4</th>\n      <td>.Trash-1000/files/Thumbs.100.db</td>\n      <td>.db</td>\n      <td>c3cb966871076d5eb2dd1cf44495382b8246cb39e73203...</td>\n    </tr>\n    <tr>\n      <th>3</th>\n      <td>.Trash-1000/files/Thumbs.10.db</td>\n      <td>.db</td>\n      <td>62356101e8153910ec3ebdbf3af0a9a26194b31e963a72...</td>\n    </tr>\n    <tr>\n      <th>2</th>\n      <td>.Trash-1000/files/Thumbs (hpetrosyan01 conflic...</td>\n      <td>.db</td>\n      <td>0c785cfdba6c342e0ba80d6c31d91f9a5ced760cec4f6b...</td>\n    </tr>\n    <tr>\n      <th>1</th>\n      <td>.Trash-1000/files/Thumbs (DTQTG071868 conflict...</td>\n      <td>.db</td>\n      <td>cda6909c09beb78bd53ddb10a49bc389ff604ea0d78499...</td>\n    </tr>\n    <tr>\n      <th>311</th>\n      <td>.Trash-1000/files/MyCarRecorder/Marked records...</td>\n      <td>.mp4</td>\n      <td>3a2a93effe92ad6549c88d48ef8b32a489f154b6d57ac6...</td>\n    </tr>\n    <tr>\n      <th>310</th>\n      <td>.Trash-1000/files/MyCarRecorder/Marked records...</td>\n      <td>.kml</td>\n      <td>b7bc6a8316b2f38b2375afb51c3dd62afefa555a8392b2...</td>\n    </tr>\n    <tr>\n      <th>309</th>\n      <td>.Trash-1000/files/MyCarRecorder/2013_01_06/201...</td>\n      <td>.mp4</td>\n      <td>439fd51f3e9ad82402d1a153c9055bdc7a1b6927c1e372...</td>\n    </tr>\n    <tr>\n      <th>308</th>\n      <td>.Trash-1000/files/MyCarRecorder/2013_01_06/201...</td>\n      <td>.kml</td>\n      <td>263decc9347cfb235809ddf205890cfe7bc8b2d56cca3a...</td>\n    </tr>\n    <tr>\n      <th>307</th>\n      <td>.Trash-1000/files/MyCarRecorder/2013_01_06/201...</td>\n      <td>.mp4</td>\n      <td>3a2a93effe92ad6549c88d48ef8b32a489f154b6d57ac6...</td>\n    </tr>\n    <tr>\n      <th>306</th>\n      <td>.Trash-1000/files/MyCarRecorder/2013_01_06/201...</td>\n      <td>.kml</td>\n      <td>b7bc6a8316b2f38b2375afb51c3dd62afefa555a8392b2...</td>\n    </tr>\n    <tr>\n      <th>303</th>\n      <td>.Trash-1000/files/Books/b28301.pdf</td>\n      <td>.pdf</td>\n      <td>c560e3b6a965bb64b3f354231aafb0a20a3b7294ad48d7...</td>\n    </tr>\n    <tr>\n      <th>304</th>\n      <td>.Trash-1000/files/Books/Expert-Oracle-Database...</td>\n      <td>.pdf</td>\n      <td>e42bc1ee8593fcc00ac045291b272499b163624dd995b6...</td>\n    </tr>\n  </tbody>\n</table>\n<p>50366 rows × 3 columns</p>\n</div>",
      "text/plain": "                                          full_file_path file_extension  \\\n49758  UniqueCopiesFolder/visa/JPG/visa_JPG_883KB_Arc...           .jpg   \n49757  UniqueCopiesFolder/visa/JPG/visa_JPG_1955KB_Ar...           .jpg   \n49756  UniqueCopiesFolder/vig_nokia/JPG/vig_nokia_jpg...           .jpg   \n49755  UniqueCopiesFolder/vig_nokia/JPG/vig_nokia_jpg...           .jpg   \n49754  UniqueCopiesFolder/vig_nokia/JPG/vig_nokia_jpg...           .jpg   \n49753  UniqueCopiesFolder/vig_nokia/JPG/vig_nokia_jpg...           .jpg   \n49752  UniqueCopiesFolder/vig_nokia/JPG/vig_nokia_jpg...           .jpg   \n49751  UniqueCopiesFolder/vig_nokia/JPG/vig_nokia_jpg...           .jpg   \n49750  UniqueCopiesFolder/vig_nokia/JPG/vig_nokia_jpg...           .jpg   \n49749  UniqueCopiesFolder/vig_nokia/JPG/vig_nokia_jpg...           .jpg   \n49748  UniqueCopiesFolder/vig_nokia/JPG/vig_nokia_jpg...           .jpg   \n49747  UniqueCopiesFolder/vig_nokia/JPG/vig_nokia_jpg...           .jpg   \n49746  UniqueCopiesFolder/vig_nokia/JPG/vig_nokia_jpg...           .jpg   \n49733  UniqueCopiesFolder/vig_nokia/JPG/vig_nokia_jpg...           .jpg   \n49745  UniqueCopiesFolder/vig_nokia/JPG/vig_nokia_jpg...           .jpg   \n49744  UniqueCopiesFolder/vig_nokia/JPG/vig_nokia_jpg...           .jpg   \n49743  UniqueCopiesFolder/vig_nokia/JPG/vig_nokia_jpg...           .jpg   \n49742  UniqueCopiesFolder/vig_nokia/JPG/vig_nokia_jpg...           .jpg   \n49741  UniqueCopiesFolder/vig_nokia/JPG/vig_nokia_jpg...           .jpg   \n49740  UniqueCopiesFolder/vig_nokia/JPG/vig_nokia_jpg...           .jpg   \n49739  UniqueCopiesFolder/vig_nokia/JPG/vig_nokia_jpg...           .jpg   \n49738  UniqueCopiesFolder/vig_nokia/JPG/vig_nokia_jpg...           .jpg   \n49737  UniqueCopiesFolder/vig_nokia/JPG/vig_nokia_jpg...           .jpg   \n49736  UniqueCopiesFolder/vig_nokia/JPG/vig_nokia_jpg...           .jpg   \n49735  UniqueCopiesFolder/vig_nokia/JPG/vig_nokia_jpg...           .jpg   \n49734  UniqueCopiesFolder/vig_nokia/JPG/vig_nokia_jpg...           .jpg   \n49732  UniqueCopiesFolder/vig_nokia/JPG/vig_nokia_jpg...           .jpg   \n49728  UniqueCopiesFolder/vig_nokia/JPG/vig_nokia_jpg...           .jpg   \n49727  UniqueCopiesFolder/vig_nokia/JPG/vig_nokia_jpg...           .jpg   \n49726  UniqueCopiesFolder/vig_nokia/JPG/vig_nokia_jpg...           .jpg   \n...                                                  ...            ...   \n115                      .Trash-1000/files/Thumbs.117.db            .db   \n114                      .Trash-1000/files/Thumbs.116.db            .db   \n113                      .Trash-1000/files/Thumbs.115.db            .db   \n112                      .Trash-1000/files/Thumbs.114.db            .db   \n72                       .Trash-1000/files/Thumbs.113.db            .db   \n17                       .Trash-1000/files/Thumbs.112.db            .db   \n16                       .Trash-1000/files/Thumbs.111.db            .db   \n15                       .Trash-1000/files/Thumbs.110.db            .db   \n14                        .Trash-1000/files/Thumbs.11.db            .db   \n13                       .Trash-1000/files/Thumbs.109.db            .db   \n12                       .Trash-1000/files/Thumbs.108.db            .db   \n11                       .Trash-1000/files/Thumbs.107.db            .db   \n10                       .Trash-1000/files/Thumbs.106.db            .db   \n9                        .Trash-1000/files/Thumbs.105.db            .db   \n8                        .Trash-1000/files/Thumbs.104.db            .db   \n7                        .Trash-1000/files/Thumbs.103.db            .db   \n6                        .Trash-1000/files/Thumbs.102.db            .db   \n5                        .Trash-1000/files/Thumbs.101.db            .db   \n4                        .Trash-1000/files/Thumbs.100.db            .db   \n3                         .Trash-1000/files/Thumbs.10.db            .db   \n2      .Trash-1000/files/Thumbs (hpetrosyan01 conflic...            .db   \n1      .Trash-1000/files/Thumbs (DTQTG071868 conflict...            .db   \n311    .Trash-1000/files/MyCarRecorder/Marked records...           .mp4   \n310    .Trash-1000/files/MyCarRecorder/Marked records...           .kml   \n309    .Trash-1000/files/MyCarRecorder/2013_01_06/201...           .mp4   \n308    .Trash-1000/files/MyCarRecorder/2013_01_06/201...           .kml   \n307    .Trash-1000/files/MyCarRecorder/2013_01_06/201...           .mp4   \n306    .Trash-1000/files/MyCarRecorder/2013_01_06/201...           .kml   \n303                   .Trash-1000/files/Books/b28301.pdf           .pdf   \n304    .Trash-1000/files/Books/Expert-Oracle-Database...           .pdf   \n\n                                               file_hash  \n49758  258f1984d1000d9dc065c211768cced7dd2bfbc1d4bd83...  \n49757  87eea45a65ceb45ce85818280d0518ae927f3ac3f2a992...  \n49756  f81cb5f6ed2b2d865a5888d972a707da95846dc5f5f306...  \n49755  8cb96771bd49b83bcf952181f1c299bcf7c951ecab2114...  \n49754  e604789a5e7ba14f98755f904e2ccc756381b2de7e7818...  \n49753  ae5bb555609ae9de4c19e64259dc2520cf70d5623bd6e7...  \n49752  abfaff66869453b6b53b55cec3f80c0ac408cb95796ac6...  \n49751  721cdabb6950b6b1c5346ffaac7dfb960b837016d5c876...  \n49750  1632647a0e023314f6e6d68d8cec325ca3347f1076ac7c...  \n49749  cb30b8c4a8476896cf2b600ab5bcf5f76e0e3d702cda92...  \n49748  53dccd64bf39f1f324fef67f53111156b252be72de1ab0...  \n49747  6b5d35ffa350e366718bb047ae14b2c4635cefd5f12986...  \n49746  2e552d7449c4e801b79f7f41812d6f97121b2224291f05...  \n49733  467b590e4a5d2a44f12890c2a569a3f9118266b7701ab3...  \n49745  ff7efd2acdec6f78c0a7bd361a2a57d30f5f0365df0a2e...  \n49744  c72a2a22aafcc7a4e2640f31894919a359d78de1bf94f4...  \n49743  60ffd59f943b272342758e301dfd42bc911cf2e968066a...  \n49742  5bb0cd200ecf28d2eaa048bbcc9a7c6b1e76d5d867f914...  \n49741  dd34eba34289e0b7e4ade79c0a061c09db4e1ee26b0e74...  \n49740  86616cfb02b993ab1dd8d3d1917af32bcf8d732381c8fd...  \n49739  123227788238484cc6a7c3f24a9b70239a6bf961a79dd5...  \n49738  ad3d1ca77f896ff86e3d308960617d44ac93996d6d0418...  \n49737  a8f691c96c587730768aeceb6ff7ee2be53382d5e3a500...  \n49736  fe180dc50ac2d2426f85d99e3cbc3dc9eba87edce817f9...  \n49735  9eec43dfa7304b0ff484eef329b51e9782f17c24241c61...  \n49734  fc390a130afc0631aeab0214abdb21cad58e29cc4bd115...  \n49732  942ab54e6cae67901ecacf020abe3bde446fa122128bec...  \n49728  6e1caab2977d85985e6d64b0e98f3c2061b51eb5a31b7c...  \n49727  717027981ca4dfca2237b9ecceef8b4722614a3b2fefc9...  \n49726  dc1f1f0237c98c92adfd8af784ce33313c707aa5b08f05...  \n...                                                  ...  \n115    c9c9365b0f99e6b1039dcbe3a8480721a983e93aa203e9...  \n114    5ad8ccbb3479d972379a4441b4391e05445a976af9c62b...  \n113    600ec698e08596c2c4671a5eb9294cc771d4d62843f689...  \n112    02eab1ad7a0b74f985dd650dc25c09d3fe4e835fb4b835...  \n72     675733038173f939b17ed970f26325ceab8665e3cad951...  \n17     bc8a075c40da425c5a5a0b92418faa4c2a1571bb0cf574...  \n16     94498986970dc40a02af23bdc5928e4b67721bf8e94045...  \n15     27cccafdbe8d4421d9e3bdd828120ed16ceb820b263324...  \n14     f0c5ca6191bdd7a5d0d29c4f2edf0f642eb01203cdd3ad...  \n13     cd0216ba424fdd928ac762ebdf7174d91c64507bdfde6d...  \n12     ca6f31ed0989e34d544338e3f876ccb385b4dfc31957c7...  \n11     0853064f873359ec2c1bf5e5c9aa1f4292fc1a03782dde...  \n10     469c930862b771b406b382caf48f437c2f8a4c69fb49ca...  \n9      78559b2974c79e12cdc6093b229f299734cf749e5d91a7...  \n8      7852497f5481c855d75b61fde898344ef9156292fe4b5c...  \n7      0eccfe6308147fb8c119821c5ac82880d9be597670a789...  \n6      f8b03239ecfb096ea2c20907ef61e7b93f6e9a54787000...  \n5      7b52f5726248deade16e0087186b34859d88e846ff96af...  \n4      c3cb966871076d5eb2dd1cf44495382b8246cb39e73203...  \n3      62356101e8153910ec3ebdbf3af0a9a26194b31e963a72...  \n2      0c785cfdba6c342e0ba80d6c31d91f9a5ced760cec4f6b...  \n1      cda6909c09beb78bd53ddb10a49bc389ff604ea0d78499...  \n311    3a2a93effe92ad6549c88d48ef8b32a489f154b6d57ac6...  \n310    b7bc6a8316b2f38b2375afb51c3dd62afefa555a8392b2...  \n309    439fd51f3e9ad82402d1a153c9055bdc7a1b6927c1e372...  \n308    263decc9347cfb235809ddf205890cfe7bc8b2d56cca3a...  \n307    3a2a93effe92ad6549c88d48ef8b32a489f154b6d57ac6...  \n306    b7bc6a8316b2f38b2375afb51c3dd62afefa555a8392b2...  \n303    c560e3b6a965bb64b3f354231aafb0a20a3b7294ad48d7...  \n304    e42bc1ee8593fcc00ac045291b272499b163624dd995b6...  \n\n[50366 rows x 3 columns]"
     },
     "execution_count": 32,
     "metadata": {},
     "output_type": "execute_result"
    }
   ],
   "source": [
    "df"
   ]
  },
  {
   "cell_type": "code",
   "execution_count": null,
   "metadata": {},
   "outputs": [],
   "source": []
  }
 ]
}