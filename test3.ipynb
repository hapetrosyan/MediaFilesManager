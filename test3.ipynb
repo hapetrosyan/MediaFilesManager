{
 "nbformat": 4,
 "nbformat_minor": 2,
 "metadata": {
  "language_info": {
   "name": "python",
   "codemirror_mode": {
    "name": "ipython",
    "version": 3
   },
   "version": "3.7.5"
  },
  "orig_nbformat": 2,
  "file_extension": ".py",
  "mimetype": "text/x-python",
  "name": "python",
  "npconvert_exporter": "python",
  "pygments_lexer": "ipython3",
  "version": 3
 },
 "cells": [
  {
   "cell_type": "code",
   "execution_count": 46,
   "metadata": {},
   "outputs": [],
   "source": [
    "import pandas as pd\n",
    "import numpy as np\n",
    "import re\n",
    "import funcs\n",
    "import os"
   ]
  },
  {
   "cell_type": "code",
   "execution_count": 2,
   "metadata": {},
   "outputs": [],
   "source": [
    "df = pd.read_csv('my_csv.csv', names=['full_file_path', 'file_extension', 'file_hash'])\n",
    "df['full_file_path'] = df['full_file_path'].apply(lambda x: x.replace('/media/hakob/Seagate Expansion Drive/', '')).str.lower() + '!'\n",
    "df['file_extension'] = df['file_extension'].str.lower()\n",
    "df_hash_paths_union = df.groupby('file_hash').agg('sum')\n",
    "df_hash_paths_union['paths_list'] = df_hash_paths_union['full_file_path'].apply(lambda x: re.split('[ . / _  , !]' , x)).apply(lambda x: list(dict.fromkeys(x)))\n",
    "df_hash_paths_union['desc_list'] = df_hash_paths_union['paths_list'].apply(funcs.remove_useless_words)\n",
    "df_hash_paths_union.to_csv('path_words.csv')"
   ]
  },
  {
   "cell_type": "code",
   "execution_count": null,
   "metadata": {},
   "outputs": [],
   "source": []
  },
  {
   "cell_type": "code",
   "execution_count": 43,
   "metadata": {},
   "outputs": [],
   "source": [
    "files_to_del = df[df['is_copy'] == True]['full_file_path']"
   ]
  },
  {
   "cell_type": "code",
   "execution_count": 47,
   "metadata": {},
   "outputs": [
    {
     "name": "stdout",
     "output_type": "stream",
     "text": "The file /media/hakob/Seagate Expansion Drive/SegateOriginalFiles/DVD 16/AUTO   INTERNET/Wanderer-w25k.jpg does not exist\nThe file /media/hakob/Seagate Expansion Drive/SegateOriginalFiles/DVD 16/AUTO   INTERNET/GAZM72_7.jpg does not exist\nThe file /media/hakob/Seagate Expansion Drive/SegateOriginalFiles/DVD 16/AUTO   INTERNET/SV_TAXI01.jpg does not exist\nThe file /media/hakob/Seagate Expansion Drive/SegateOriginalFiles/DVD 16/AUTO   INTERNET/salons_f1%7E0.jpg does not exist\nThe file /media/hakob/Seagate Expansion Drive/SegateOriginalFiles/DVD 16/AUTO   INTERNET/0678744001230150185.jpg does not exist\nThe file /media/hakob/Seagate Expansion Drive/SegateOriginalFiles/DVD 16/AUTO   INTERNET/zis-102-cabriolet.jpg does not exist\nThe file /media/hakob/Seagate Expansion Drive/SegateOriginalFiles/DVD 16/AUTO   INTERNET/m402_1Raimis_vstrechajamashina.jpg does not exist\nThe file /media/hakob/Seagate Expansion Drive/SegateOriginalFiles/DVD 16/AUTO   INTERNET/zimprib.jpg does not exist\nThe file /media/hakob/Seagate Expansion Drive/SegateOriginalFiles/DVD 16/AUTO   INTERNET/60m407.jpg does not exist\nThe file /media/hakob/Seagate Expansion Drive/SegateOriginalFiles/DVD 16/AUTO   INTERNET/MOSKVICH420.jpg does not exist\nThe file /media/hakob/Seagate Expansion Drive/SegateOriginalFiles/DVD 16/AUTO   INTERNET/chaikacar.jpg does not exist\nThe file /media/hakob/Seagate Expansion Drive/SegateOriginalFiles/DVD 16/AUTO   INTERNET/Moskvitch_400.jpg does not exist\nThe file /media/hakob/Seagate Expansion Drive/SegateOriginalFiles/DVD 16/AUTO   INTERNET/10_16.jpg does not exist\nThe file /media/hakob/Seagate Expansion Drive/SegateOriginalFiles/DVD 16/AUTO   INTERNET/zil-114_1.jpg does not exist\nThe file /media/hakob/Seagate Expansion Drive/SegateOriginalFiles/DVD 16/AUTO   INTERNET/19064_2.jpg does not exist\nThe file /media/hakob/Seagate Expansion Drive/SegateOriginalFiles/DVD 16/AUTO   INTERNET/19064_1.jpg does not exist\nThe file /media/hakob/Seagate Expansion Drive/SegateOriginalFiles/DVD 16/AUTO   INTERNET/zil111Glimousine_GeorgeKoopman.jpg does not exist\nThe file /media/hakob/Seagate Expansion Drive/SegateOriginalFiles/DVD 16/AUTO   INTERNET/611026-1.jpg does not exist\nThe file /media/hakob/Seagate Expansion Drive/SegateOriginalFiles/DVD 16/AUTO   INTERNET/salons_j.jpg does not exist\nThe file /media/hakob/Seagate Expansion Drive/SegateOriginalFiles/DVD 16/AUTO   INTERNET/gaz12a-zim-convertible.jpg does not exist\nThe file /media/hakob/Seagate Expansion Drive/SegateOriginalFiles/DVD 16/AUTO   INTERNET/ci.jpg does not exist\nThe file /media/hakob/Seagate Expansion Drive/SegateOriginalFiles/DVD 16/AUTO   INTERNET/797px-Moskvi%C4%8D.jpg does not exist\nThe file /media/hakob/Seagate Expansion Drive/SegateOriginalFiles/DVD 16/AUTO   INTERNET/1965zil.jpg does not exist\nThe file /media/hakob/Seagate Expansion Drive/SegateOriginalFiles/DVD 16/AUTO   INTERNET/Gaz%20m72%204x4.jpg does not exist\nThe file /media/hakob/Seagate Expansion Drive/SegateOriginalFiles/DVD 16/AUTO   INTERNET/2492493788_c07b44f642.jpg does not exist\nThe file /media/hakob/Seagate Expansion Drive/SegateOriginalFiles/DVD 16/AUTO   INTERNET/salons_f.jpg does not exist\nThe file /media/hakob/Seagate Expansion Drive/SegateOriginalFiles/DVD 16/AUTO   INTERNET/611026-0.jpg does not exist\nThe file /media/hakob/Seagate Expansion Drive/SegateOriginalFiles/DVD 16/AUTO   INTERNET/gaz_chaika_611026_0.jpg does not exist\nThe file /media/hakob/Seagate Expansion Drive/SegateOriginalFiles/DVD 16/AUTO   INTERNET/mosk410h.jpg does not exist\nThe file /media/hakob/Seagate Expansion Drive/SegateOriginalFiles/DVD 16/AUTO   INTERNET/ZIL-111-front.jpg does not exist\nThe file /media/hakob/Seagate Expansion Drive/SegateOriginalFiles/DVD 16/AUTO   INTERNET/MOSKVITCHKALITA09_WEB.jpg does not exist\nThe file /media/hakob/Seagate Expansion Drive/SegateOriginalFiles/DVD 16/AUTO   INTERNET/800px-Beroun%2C_DOD_Probotrans%2C_Expon%C3%A1t_Volha_M_21.jpg does not exist\nThe file /media/hakob/Seagate Expansion Drive/SegateOriginalFiles/DVD 16/AUTO   INTERNET/ae050424.jpg does not exist\nThe file /media/hakob/Seagate Expansion Drive/SegateOriginalFiles/DVD 16/AUTO   INTERNET/_volga-5.jpg does not exist\nThe file /media/hakob/Seagate Expansion Drive/SegateOriginalFiles/DVD 16/AUTO   INTERNET/ZIL-111-rear.jpg does not exist\nThe file /media/hakob/Seagate Expansion Drive/SegateOriginalFiles/DVD 16/AUTO   INTERNET/salons_b.jpg does not exist\nThe file /media/hakob/Seagate Expansion Drive/SegateOriginalFiles/DVD 16/AUTO   INTERNET/KIM2.jpg does not exist\nThe file /media/hakob/Seagate Expansion Drive/SegateOriginalFiles/DVD 16/AUTO   INTERNET/salons_9.jpg does not exist\nThe file /media/hakob/Seagate Expansion Drive/SegateOriginalFiles/DVD 16/AUTO   INTERNET/Picture2.jpg does not exist\nThe file /media/hakob/Seagate Expansion Drive/SegateOriginalFiles/DVD 16/AUTO   INTERNET/GAZM72_8.jpg does not exist\nThe file /media/hakob/Seagate Expansion Drive/SegateOriginalFiles/DVD 16/AUTO   INTERNET/mosk2150-2a.jpg does not exist\nThe file /media/hakob/Seagate Expansion Drive/SegateOriginalFiles/DVD 16/AUTO   INTERNET/volk_02.jpg does not exist\nThe file /media/hakob/Seagate Expansion Drive/SegateOriginalFiles/DVD 16/AUTO   INTERNET/Saloon1.jpg does not exist\nThe file /media/hakob/Seagate Expansion Drive/SegateOriginalFiles/DVD 16/AUTO   INTERNET/GAZ-Tiger-2-TOP.jpg does not exist\nThe file /media/hakob/Seagate Expansion Drive/SegateOriginalFiles/DVD 16/AUTO   INTERNET/0318567001230150433.jpg does not exist\nThe file /media/hakob/Seagate Expansion Drive/SegateOriginalFiles/DVD 16/AUTO   INTERNET/0326251001230149796.jpg does not exist\nThe file /media/hakob/Seagate Expansion Drive/SegateOriginalFiles/DVD 16/AUTO   INTERNET/chaika.jpg does not exist\nThe file /media/hakob/Seagate Expansion Drive/SegateOriginalFiles/DVD 16/AUTO   INTERNET/moscvich_407_808024_2.jpg does not exist\nThe file /media/hakob/Seagate Expansion Drive/SegateOriginalFiles/DVD 16/AUTO   INTERNET/zis101og.jpg does not exist\nThe file /media/hakob/Seagate Expansion Drive/SegateOriginalFiles/DVD 16/AUTO   INTERNET/MOSKVITCHKALITA4.jpg does not exist\nThe file /media/hakob/Seagate Expansion Drive/SegateOriginalFiles/DVD 16/AUTO   INTERNET/_volga-3.jpg does not exist\nThe file /media/hakob/Seagate Expansion Drive/SegateOriginalFiles/DVD 16/AUTO   INTERNET/1949-zis-110.jpg does not exist\nThe file /media/hakob/Seagate Expansion Drive/SegateOriginalFiles/DVD 16/AUTO   INTERNET/salons_i.jpg does not exist\nThe file /media/hakob/Seagate Expansion Drive/SegateOriginalFiles/DVD 16/AUTO   INTERNET/19064_7.jpg does not exist\nThe file /media/hakob/Seagate Expansion Drive/SegateOriginalFiles/DVD 16/AUTO   INTERNET/m402e.jpg does not exist\nThe file /media/hakob/Seagate Expansion Drive/SegateOriginalFiles/DVD 16/AUTO   INTERNET/gaz_m1_1_h_orig.jpg does not exist\nThe file /media/hakob/Seagate Expansion Drive/SegateOriginalFiles/DVD 16/AUTO   INTERNET/19064_3.jpg does not exist\nThe file /media/hakob/Seagate Expansion Drive/SegateOriginalFiles/DVD 16/AUTO   INTERNET/MOSKVITCHKALITA(DASHBOARD)_WEB.jpg does not exist\nThe file /media/hakob/Seagate Expansion Drive/SegateOriginalFiles/DVD 16/AUTO   INTERNET/motors_6.jpg does not exist\nThe file /media/hakob/Seagate Expansion Drive/SegateOriginalFiles/DVD 16/AUTO   INTERNET/cf.jpg does not exist\nThe file /media/hakob/Seagate Expansion Drive/SegateOriginalFiles/DVD 16/AUTO   INTERNET/motors_4.jpg does not exist\nThe file /media/hakob/Seagate Expansion Drive/SegateOriginalFiles/DVD 16/AUTO   INTERNET/_volga-4.jpg does not exist\nThe file /media/hakob/Seagate Expansion Drive/SegateOriginalFiles/DVD 16/AUTO   INTERNET/02_b.jpg does not exist\nThe file /media/hakob/Seagate Expansion Drive/SegateOriginalFiles/DVD 16/AUTO   INTERNET/ae050268.jpg does not exist\nThe file /media/hakob/Seagate Expansion Drive/SegateOriginalFiles/DVD 16/AUTO   INTERNET/zis110kabr_Vladimir.jpg does not exist\nThe file /media/hakob/Seagate Expansion Drive/SegateOriginalFiles/DVD 16/AUTO   INTERNET/salons_c.jpg does not exist\nThe file /media/hakob/Seagate Expansion Drive/SegateOriginalFiles/DVD 16/AUTO   INTERNET/m402_Raimis.jpg does not exist\nThe file /media/hakob/Seagate Expansion Drive/SegateOriginalFiles/DVD 16/AUTO   INTERNET/VolgaGazz21.jpg does not exist\nThe file /media/hakob/Seagate Expansion Drive/SegateOriginalFiles/DVD 16/AUTO   INTERNET/l_sanskats_2.jpg does not exist\nThe file /media/hakob/Seagate Expansion Drive/SegateOriginalFiles/DVD 16/AUTO   INTERNET/volga2.jpg does not exist\nThe file /media/hakob/Seagate Expansion Drive/SegateOriginalFiles/DVD 16/AUTO   INTERNET/2491673295_9c0d44749c.jpg does not exist\nThe file /media/hakob/Seagate Expansion Drive/SegateOriginalFiles/DVD 16/AUTO   INTERNET/0251342001230151272.jpg does not exist\nThe file /media/hakob/Seagate Expansion Drive/SegateOriginalFiles/DVD 16/AUTO   INTERNET/moscvich_407_808024_3.jpg does not exist\nThe file /media/hakob/Seagate Expansion Drive/SegateOriginalFiles/DVD 16/AUTO   INTERNET/444.jpg does not exist\nThe file /media/hakob/Seagate Expansion Drive/SegateOriginalFiles/DVD 16/AUTO   INTERNET/Moskvitch_407_1.jpg does not exist\nThe file /media/hakob/Seagate Expansion Drive/SegateOriginalFiles/DVD 16/AUTO   INTERNET/ae050271.jpg does not exist\nThe file /media/hakob/Seagate Expansion Drive/SegateOriginalFiles/DVD 16/AUTO   INTERNET/moscvich_407_541374.jpg does not exist\nThe file /media/hakob/Seagate Expansion Drive/SegateOriginalFiles/DVD 16/AUTO   INTERNET/salons_h.jpg does not exist\nThe file /media/hakob/Seagate Expansion Drive/SegateOriginalFiles/DVD 16/AUTO   INTERNET/4476298679_be38bccb25.jpg does not exist\nThe file /media/hakob/Seagate Expansion Drive/SegateOriginalFiles/DVD 16/AUTO   INTERNET/z110b80.jpg does not exist\nThe file /media/hakob/Seagate Expansion Drive/SegateOriginalFiles/DVD 16/AUTO   INTERNET/moscvich_407_541374_3.jpg does not exist\nThe file /media/hakob/Seagate Expansion Drive/SegateOriginalFiles/DVD 16/AUTO   INTERNET/moscvich_407_541374_2.jpg does not exist\nThe file /media/hakob/Seagate Expansion Drive/SegateOriginalFiles/DVD 16/AUTO   INTERNET/zis110_a.jpg does not exist\nThe file /media/hakob/Seagate Expansion Drive/SegateOriginalFiles/DVD 16/AUTO   INTERNET/800px-ZIM_side.jpg does not exist\nThe file /media/hakob/Seagate Expansion Drive/SegateOriginalFiles/DVD 16/AUTO   INTERNET/GAZ-TCH.jpg does not exist\nThe file /media/hakob/Seagate Expansion Drive/SegateOriginalFiles/DVD 16/AUTO   INTERNET/ZiM-L-zad.jpg does not exist\nThe file /media/hakob/Seagate Expansion Drive/SegateOriginalFiles/DVD 16/AUTO   INTERNET/Moskvitch_4-Door_Sedan.jpg does not exist\nThe file /media/hakob/Seagate Expansion Drive/SegateOriginalFiles/DVD 16/AUTO   INTERNET/3823440143_b20f35d962.jpg does not exist\nThe file /media/hakob/Seagate Expansion Drive/SegateOriginalFiles/DVD 16/AUTO   INTERNET/a.jpg does not exist\nThe file /media/hakob/Seagate Expansion Drive/SegateOriginalFiles/DVD 16/AUTO   INTERNET/MuseumoftheGorkyAutomobilePlant_0011.jpg does not exist\nThe file /media/hakob/Seagate Expansion Drive/SegateOriginalFiles/DVD 16/AUTO   INTERNET/zis110kabr_Molotok.jpg does not exist\nThe file /media/hakob/Seagate Expansion Drive/SegateOriginalFiles/DVD 16/AUTO   INTERNET/2753633304_446aac50a3.jpg does not exist\nThe file /media/hakob/Seagate Expansion Drive/SegateOriginalFiles/DVD 16/AUTO   INTERNET/Wanderer_W23_Cabriolet_1938.jpg does not exist\nThe file /media/hakob/Seagate Expansion Drive/SegateOriginalFiles/DVD 16/AUTO   INTERNET/ZiM-L.jpg does not exist\nThe file /media/hakob/Seagate Expansion Drive/SegateOriginalFiles/DVD 16/AUTO   INTERNET/ae050104.jpg does not exist\nThe file /media/hakob/Seagate Expansion Drive/SegateOriginalFiles/DVD 16/AUTO   INTERNET/Wanderer_W51S.jpg does not exist\nThe file /media/hakob/Seagate Expansion Drive/SegateOriginalFiles/DVD 16/AUTO   INTERNET/3823438985_d54d65e089.jpg does not exist\nThe file /media/hakob/Seagate Expansion Drive/SegateOriginalFiles/DVD 16/AUTO   INTERNET/cg.jpg does not exist\nThe file /media/hakob/Seagate Expansion Drive/SegateOriginalFiles/DVD 16/AUTO   INTERNET/Pobeda-road-tests-summer-1945.jpg does not exist\n"
    }
   ],
   "source": [
    "for f in files_to_del:\n",
    "    if os.path.exists(f):\n",
    "        os.remove(f)\n",
    "    else:\n",
    "        print(f'The file {f} does not exist')"
   ]
  },
  {
   "cell_type": "code",
   "execution_count": null,
   "metadata": {},
   "outputs": [],
   "source": []
  },
  {
   "cell_type": "code",
   "execution_count": null,
   "metadata": {},
   "outputs": [],
   "source": []
  },
  {
   "cell_type": "code",
   "execution_count": null,
   "metadata": {},
   "outputs": [],
   "source": []
  },
  {
   "cell_type": "code",
   "execution_count": null,
   "metadata": {},
   "outputs": [],
   "source": []
  },
  {
   "cell_type": "code",
   "execution_count": null,
   "metadata": {},
   "outputs": [],
   "source": []
  },
  {
   "cell_type": "code",
   "execution_count": null,
   "metadata": {},
   "outputs": [],
   "source": []
  },
  {
   "cell_type": "code",
   "execution_count": null,
   "metadata": {},
   "outputs": [],
   "source": []
  },
  {
   "cell_type": "code",
   "execution_count": null,
   "metadata": {},
   "outputs": [],
   "source": []
  },
  {
   "cell_type": "code",
   "execution_count": null,
   "metadata": {},
   "outputs": [],
   "source": []
  },
  {
   "cell_type": "code",
   "execution_count": null,
   "metadata": {},
   "outputs": [],
   "source": [
    "import file_utils as fu\n",
    "import hash_utils as hu\n",
    "import pandas as pd\n",
    "from datetime import datetime\n",
    "import os\n",
    "import re\n",
    "import funcs\n",
    "import os\n",
    "\n",
    "# load csv file\n",
    "\n",
    "loc = '/media/hakob/Seagate Expansion Drive/ManagedMediaFiles/CleanRepo'\n",
    "# os.remove('my_csv.csv')\n",
    "startime = datetime.now()\n",
    "\n",
    "for dirpath, dirnames, filenames in os.walk(loc):\n",
    "    df = pd.DataFrame()\n",
    "    for filename in filenames:\n",
    "        full_file_path = os.path.join(dirpath, filename)\n",
    "        df = df.append ( [[full_file_path, os.path.splitext(filename)[-1].lower(), hu.get_file_hash(full_file_path)]] )\n",
    "    df.to_csv('CleanRepoFiles.csv', mode='a', header=False, index=False)\n",
    "    print(f'processing folder {dirpath}')\n",
    "\n",
    "endtime = datetime.now()\n",
    "diff = endtime - startime\n",
    "print(diff)"
   ]
  }
 ]
}